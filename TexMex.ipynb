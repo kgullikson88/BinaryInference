{
 "cells": [
  {
   "cell_type": "markdown",
   "metadata": {
    "slideshow": {
     "slide_type": "slide"
    }
   },
   "source": [
    "# Binary Inference a la Dan Foreman-Mackey\n",
    "## Kevin Gullikson\n",
    "### Tex-Mex, December 2, 2015"
   ]
  },
  {
   "cell_type": "markdown",
   "metadata": {
    "slideshow": {
     "slide_type": "slide"
    }
   },
   "source": [
    "# Basic Idea\n",
    "\n",
    " - We have a bunch of RV and/or imaging data ($\\{x_k\\}$) on some sample of binary stars\n",
    " - We want to know the distribution of the orbital parameters ($q, a, e$)"
   ]
  },
  {
   "cell_type": "markdown",
   "metadata": {
    "slideshow": {
     "slide_type": "fragment"
    }
   },
   "source": [
    "# It's Really Easy!\n",
    "\n",
    "$$ p(\\{x_k\\} | \\theta) =  \\exp\\left(- \\int Q_c(\\omega) \\Gamma_{\\theta}(\\omega) d\\omega \\right) \\prod_{k=1}^K \\frac{1}{N_k} \\sum_{n=1}^{N_k} \\frac{Q_c(\\omega_k^{(n)}) \\Gamma_{\\theta}(\\omega_k^{(n)})}{p(\\omega_k^{(n)} | \\alpha)} $$"
   ]
  },
  {
   "cell_type": "markdown",
   "metadata": {
    "slideshow": {
     "slide_type": "subslide"
    }
   },
   "source": [
    "<img src=\"http://minimemes.net/wp-content/uploads/2013/06/reaction_guy.jpg\" >"
   ]
  },
  {
   "cell_type": "markdown",
   "metadata": {
    "slideshow": {
     "slide_type": "slide"
    }
   },
   "source": [
    "# Back Up..."
   ]
  },
  {
   "cell_type": "markdown",
   "metadata": {
    "slideshow": {
     "slide_type": "subslide"
    }
   },
   "source": [
    "# Say you have a bunch of samples of... something\n",
    "\n",
    "<img src=\"TexMex_Figures/Gaussian_Samples.png\">"
   ]
  },
  {
   "cell_type": "markdown",
   "metadata": {
    "slideshow": {
     "slide_type": "fragment"
    }
   },
   "source": [
    "$$ L(\\{x_k\\}|\\mu, \\sigma) = \\prod_K \\frac{1}{\\sqrt{2\\pi\\sigma^2}} e^{-0.5\\frac{(x_k - \\mu)^2}{\\sigma^2}} $$"
   ]
  },
  {
   "cell_type": "markdown",
   "metadata": {
    "slideshow": {
     "slide_type": "subslide"
    }
   },
   "source": [
    "# Slightly more generalized\n",
    "\n",
    "$$L(\\{x_k\\}|\\theta) = \\prod_k p(x_k|\\theta) $$"
   ]
  },
  {
   "cell_type": "markdown",
   "metadata": {
    "slideshow": {
     "slide_type": "fragment"
    }
   },
   "source": [
    "## Now compare:\n",
    "\n",
    "\\begin{align}\n",
    "p(\\{x_k\\} | \\theta) &=  \\exp\\left(- \\int Q_c(\\omega) \\Gamma_{\\theta}(\\omega) d\\omega \\right) \\prod_{k=1}^K \\frac{1}{N_k} \\sum_{n=1}^{N_k} \\frac{Q_c(\\omega_k^{(n)}) \\Gamma_{\\theta}(\\omega_k^{(n)})}{p(\\omega_k^{(n)} | \\alpha)} \\\\\n",
    "\\Gamma_{\\theta}(\\omega) &= N p(\\omega | \\theta)\n",
    "\\end{align}"
   ]
  },
  {
   "cell_type": "markdown",
   "metadata": {
    "slideshow": {
     "slide_type": "slide"
    }
   },
   "source": [
    "# First Step: Fit orbits\n",
    "\n",
    " - Each star has some set of data, and a bunch of orbits consistent with the data.\n",
    " \n",
    "   $$p(\\omega_k|x_k, \\alpha) = \\frac{p(x_k|\\omega_k)p(\\omega_k|\\alpha)}{p(x_k|\\alpha)} $$\n",
    "  \n",
    "    - $x_k$ is the set of radial velocity and imaging data for star k\n",
    "    - $\\omega_k$ is the set of orbital parameters for star k. $\\omega_k = (a, M_0, e, \\omega, K_1, q, \\Delta v)$ for only spectroscopic data\n",
    "    - $\\alpha$ is just notation for the priors you set on the orbital elements."
   ]
  },
  {
   "cell_type": "markdown",
   "metadata": {
    "slideshow": {
     "slide_type": "subslide"
    }
   },
   "source": [
    "## Orbit Priors:\n",
    "\n",
    "  - a: log-uniform from $10^{-2} - 10^6$ AU\n",
    "  - $M_0, \\omega$: Both uniform from $0 - 360^{\\circ}$\n",
    "  - e: log-uniform from $10^{-20} - 0$\n",
    "  - $K_1$ (RV semi-amplitude of the primary star): log-uniform from $10^{-3} - 10^3$ km/s\n",
    "  - $\\Delta v$ (the system velocity): Uniform from $-20 - 20$ km/s. This is 0 for all simulated stars.\n",
    "  - q: Use the companion temperature information, assume main-sequence. Sample the errors and use kernel density estimation.\n",
    "  \n",
    "  <img src=\"Figures/qprior.png\">"
   ]
  },
  {
   "cell_type": "markdown",
   "metadata": {
    "slideshow": {
     "slide_type": "subslide"
    }
   },
   "source": [
    "<img src=\"Figures/OrbitFit2.png\" style=\"height:600px\">"
   ]
  },
  {
   "cell_type": "markdown",
   "metadata": {
    "slideshow": {
     "slide_type": "slide"
    }
   },
   "source": [
    "# Second Step: Fit Distributions\n",
    "\n",
    "\n",
    "$$ p(\\{x_k\\} | \\theta) =  \\exp\\left(- \\int Q_c(\\omega) \\Gamma_{\\theta}(\\omega) d\\omega \\right) \\prod_{k=1}^K \\frac{1}{N_k} \\sum_{n=1}^{N_k} \\frac{Q_c(\\omega_k^{(n)}) \\Gamma_{\\theta}(\\omega_k^{(n)})}{p(\\omega_k^{(n)} | \\alpha)} $$\n",
    "\n",
    "\\begin{align}\n",
    "\\Gamma_{\\theta}(\\omega) &= N p(q|\\gamma) p(a|\\mu, \\sigma) p(e|\\eta) \\\\\n",
    "p(q|\\gamma) &= (1-\\gamma)q^{-\\gamma} \\\\\n",
    "p(a|\\mu, \\sigma) &= \\frac{1}{a\\sqrt{2\\pi\\sigma^2}} e^{-0.5(\\ln{a} - \\mu)^2 / \\sigma^2} \\\\\n",
    "p(e|\\eta) &= (1-\\eta)e^{-\\eta}\n",
    "\\end{align}\n",
    "$Q(\\omega)$ is the completeness for parameter set $\\omega$\n",
    "\n",
    "\n",
    "\n",
    "\n"
   ]
  },
  {
   "cell_type": "markdown",
   "metadata": {
    "slideshow": {
     "slide_type": "subslide"
    }
   },
   "source": [
    "## Completeness function looks like:\n",
    "\n",
    "$$Q(q) = \\frac{1}{1+e^{-\\alpha(q-\\beta)}}  $$\n",
    "\n",
    "<img src=\"Figures/Completeness.png\">"
   ]
  },
  {
   "cell_type": "code",
   "execution_count": 41,
   "metadata": {
    "collapsed": false,
    "slideshow": {
     "slide_type": "subslide"
    }
   },
   "outputs": [
    {
     "data": {
      "text/html": [
       "<table border=\"1\" class=\"dataframe\">\n",
       "  <thead>\n",
       "    <tr style=\"text-align: right;\">\n",
       "      <th></th>\n",
       "      <th>Name</th>\n",
       "      <th>$M_0$</th>\n",
       "      <th>$\\log{K_1}$</th>\n",
       "      <th>$\\log{a}$</th>\n",
       "      <th>$\\log{e}$</th>\n",
       "      <th>$\\omega$</th>\n",
       "      <th>dv1</th>\n",
       "      <th>q</th>\n",
       "    </tr>\n",
       "  </thead>\n",
       "  <tbody>\n",
       "    <tr>\n",
       "      <th>0</th>\n",
       "      <td>$\\omega_k^{(0)}$</td>\n",
       "      <td>286.615180</td>\n",
       "      <td>-2.788812</td>\n",
       "      <td>2.274059</td>\n",
       "      <td>-12.970221</td>\n",
       "      <td>152.518320</td>\n",
       "      <td>-0.267150</td>\n",
       "      <td>0.501120</td>\n",
       "    </tr>\n",
       "    <tr>\n",
       "      <th>1</th>\n",
       "      <td>$\\omega_k^{(1)}$</td>\n",
       "      <td>307.931194</td>\n",
       "      <td>-2.065090</td>\n",
       "      <td>0.000915</td>\n",
       "      <td>-15.206329</td>\n",
       "      <td>352.325391</td>\n",
       "      <td>-0.084419</td>\n",
       "      <td>0.898791</td>\n",
       "    </tr>\n",
       "    <tr>\n",
       "      <th>2</th>\n",
       "      <td>$\\omega_k^{(2)}$</td>\n",
       "      <td>349.979716</td>\n",
       "      <td>-2.657806</td>\n",
       "      <td>6.340732</td>\n",
       "      <td>-7.301358</td>\n",
       "      <td>5.977844</td>\n",
       "      <td>-0.032327</td>\n",
       "      <td>0.948057</td>\n",
       "    </tr>\n",
       "    <tr>\n",
       "      <th>3</th>\n",
       "      <td>$\\omega_k^{(3)}$</td>\n",
       "      <td>217.449312</td>\n",
       "      <td>-2.812814</td>\n",
       "      <td>1.454800</td>\n",
       "      <td>-4.731301</td>\n",
       "      <td>217.877884</td>\n",
       "      <td>-0.175958</td>\n",
       "      <td>0.728021</td>\n",
       "    </tr>\n",
       "    <tr>\n",
       "      <th>4</th>\n",
       "      <td>$\\omega_k^{(4)}$</td>\n",
       "      <td>185.414098</td>\n",
       "      <td>-2.283661</td>\n",
       "      <td>-0.753462</td>\n",
       "      <td>-19.955255</td>\n",
       "      <td>123.024411</td>\n",
       "      <td>-0.037122</td>\n",
       "      <td>0.893841</td>\n",
       "    </tr>\n",
       "  </tbody>\n",
       "</table>"
      ],
      "text/plain": [
       "<IPython.core.display.HTML object>"
      ]
     },
     "execution_count": 41,
     "metadata": {},
     "output_type": "execute_result"
    }
   ],
   "source": [
    "from IPython.display import HTML\n",
    "HTML(filename='TexMex_Figures/Sample_Table.html')"
   ]
  },
  {
   "cell_type": "markdown",
   "metadata": {
    "slideshow": {
     "slide_type": "slide"
    }
   },
   "source": [
    "# Simulation Results"
   ]
  },
  {
   "cell_type": "markdown",
   "metadata": {
    "slideshow": {
     "slide_type": "subslide"
    }
   },
   "source": [
    "# No Biasing or Censoring, well-constrained orbits\n",
    "\n",
    "<img src='Figures/Triangle_well_constrained.png' style=\"height:600px\">"
   ]
  },
  {
   "cell_type": "markdown",
   "metadata": {
    "slideshow": {
     "slide_type": "subslide"
    }
   },
   "source": [
    "# No Bias, No Censoring, Unconstrained Orbits\n",
    "\n",
    "<img src='Figures/Triangle_unconstrained.png' style=\"height:600px\">"
   ]
  },
  {
   "cell_type": "markdown",
   "metadata": {
    "slideshow": {
     "slide_type": "subslide"
    }
   },
   "source": [
    "# Censored Data, No Bias\n",
    "\n",
    "<img src='Figures/Triangle_soft_censor.png' style=\"height:600px\" >"
   ]
  },
  {
   "cell_type": "markdown",
   "metadata": {
    "slideshow": {
     "slide_type": "subslide"
    }
   },
   "source": [
    "# Malmquist-Biased Sample #\n",
    "\n",
    "Forward model to get $P(q|\\rm observed)$:\n",
    "\n",
    "$$ P(q|obs, \\gamma) = \\frac{P(obs|q)P(q| \\gamma)}{\\int_0^1 P(obs|q)P(q| \\gamma)dq} $$\n",
    "\n",
    "I am parameterizing $P(obs|q)$ and $P(q| \\gamma)$ as:\n",
    "\n",
    "$$\n",
    "\\begin{align}\n",
    "P(obs|q) &= a + bq + cq^2 + dq^3 + eq^4 + fq^5 \\\\\n",
    "P(q| \\gamma) &= (1-\\gamma)q^{-\\gamma}\n",
    "\\end{align}\n",
    "$$\n",
    "\n",
    "<table style=\"height=300px\">\n",
    "  <tr>\n",
    "    <td><img src='Figures/Malmquist_Pobs.png' ></td>\n",
    "    <td><img src=\"Figures/Malmquist.png\"></td> \n",
    "  </tr>\n",
    "</table>\n",
    "\n",
    "\n"
   ]
  },
  {
   "cell_type": "markdown",
   "metadata": {
    "slideshow": {
     "slide_type": "subslide"
    }
   },
   "source": [
    "<img src='Figures/Triangle_malmquist.png'>"
   ]
  },
  {
   "cell_type": "markdown",
   "metadata": {
    "slideshow": {
     "slide_type": "subslide"
    }
   },
   "source": [
    "# Fitting for the Binary Fraction\n",
    "- So far, I have been assuming that every observed star is a binary, and I sometimes just don't detect it.\n",
    "- In reality, some (many) of the sample stars have no companion.\n",
    "\n",
    "<img src='Figures/Triangle_malmquist_fbin_prior.png'>"
   ]
  },
  {
   "cell_type": "markdown",
   "metadata": {
    "slideshow": {
     "slide_type": "slide"
    }
   },
   "source": [
    "# Thanks\n",
    "\n",
    "- Code for this analysis is on my github. Ask for access if you want it before I publish.\n"
   ]
  },
  {
   "cell_type": "markdown",
   "metadata": {},
   "source": []
  },
  {
   "cell_type": "markdown",
   "metadata": {},
   "source": []
  },
  {
   "cell_type": "markdown",
   "metadata": {},
   "source": []
  },
  {
   "cell_type": "markdown",
   "metadata": {},
   "source": []
  },
  {
   "cell_type": "markdown",
   "metadata": {},
   "source": []
  }
 ],
 "metadata": {
  "celltoolbar": "Slideshow",
  "kernelspec": {
   "display_name": "Python 2",
   "language": "python",
   "name": "python2"
  },
  "language_info": {
   "codemirror_mode": {
    "name": "ipython",
    "version": 2
   },
   "file_extension": ".py",
   "mimetype": "text/x-python",
   "name": "python",
   "nbconvert_exporter": "python",
   "pygments_lexer": "ipython2",
   "version": "2.7.10"
  }
 },
 "nbformat": 4,
 "nbformat_minor": 0
}
