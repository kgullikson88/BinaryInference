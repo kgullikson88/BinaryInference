{
 "cells": [
  {
   "cell_type": "markdown",
   "metadata": {},
   "source": [
    "# Estimating the Radial Velocity Uncertainty\n",
    "Following [cite](url), I will cross-correlate model spectra against themselves to estimate how well I can measure the primary star radial velocity shift as a function of temperature and vsini. I will use the following grid:\n",
    "\n",
    " - Teff: 7000-10000 in 1000 K steps, 10000-30000 K in 2000 K steps\n",
    " - logg: 3.5, 4.0\n",
    " - [Fe/H]: -0.5, 0.0, +0.5\n",
    " - vsini: 50 - 300 km/s in 25 km/s steps\n",
    " \n",
    "That works out to 840 grid points. At each point, I will randomly sample 10 RVs from N(0, 30), and try each one. Additionally, I will do this whole process for each instrument so that I include the actual wavelengths used in the primary star rv fits. This will probably take a few days at least...\n",
    "\n",
    "## Update:\n",
    "\n",
    "After testing, it looks like log(g) and [Fe/H] have basically no impact. So, I will use only $log(g) = 4.0$ and [Fe/H] $=0.0$"
   ]
  },
  {
   "cell_type": "code",
   "execution_count": 3,
   "metadata": {
    "collapsed": false
   },
   "outputs": [],
   "source": [
    "import StellarModel\n",
    "import HelperFunctions\n",
    "import numpy as np\n",
    "from scipy.interpolate import InterpolatedUnivariateSpline as interp\n",
    "from telfit import DataStructures, FittingUtilities\n",
    "import GenericSearch\n",
    "import matplotlib.pyplot as plt\n",
    "import plottools\n",
    "from astropy import units as u, constants\n",
    "import logging\n",
    "import Correlate\n",
    "import h5py\n",
    "import Broaden\n",
    "import seaborn as sns\n",
    "from collections import defaultdict\n",
    "import pandas as pd\n",
    "\n",
    "%matplotlib inline\n",
    "logger = logging.getLogger()\n",
    "logger.setLevel(logging.INFO)"
   ]
  },
  {
   "cell_type": "code",
   "execution_count": 41,
   "metadata": {
    "collapsed": false
   },
   "outputs": [
    {
     "name": "stdout",
     "output_type": "stream",
     "text": [
      "CCF_Error_Simulation_CHIRON_backup.csv  CCF_Error_Simulation_HRS.csv\r\n",
      "CCF_Error_Simulation_CHIRON.csv         CCF_Error_Simulation_TS23.csv\r\n"
     ]
    }
   ],
   "source": [
    "ls *.csv"
   ]
  },
  {
   "cell_type": "code",
   "execution_count": 42,
   "metadata": {
    "collapsed": false
   },
   "outputs": [],
   "source": [
    "# Instrument-specific parameters!\n",
    "hdf5_file = '/media/ExtraSpace/Kurucz_FullGrid/IGRINS_grid_air.hdf5'\n",
    "hdf5_group = 'IGRINS'\n",
    "data_file = '/home/kgullikson/School/Research/IGRINS_data/20150726/HIP_100221_telluric_corrected_renormalized.fits'\n",
    "output_file = '/home/kgullikson/School/Research/BinaryInference/RVError.h5'\n",
    "output_summary_file = '/home/kgullikson/School/Research/BinaryInference/CCF_Error_Simulation_IGRINS.csv'\n",
    "#badregions = [[475, 495]]\n",
    "badregions=[]\n",
    "resolution = 45000\n",
    "trimsize=10\n",
    "\n",
    "# General parameters\n",
    "Tvalues = range(7000, 10000, 1000) + range(10000, 30001, 2000)\n",
    "metal_values = (0.0,)\n",
    "logg_values = (4.0,)\n",
    "vsini_values = range(50, 301, 25)\n",
    "N_trials=50\n",
    "rv_dispersion = 30\n",
    "snr = 300.0  # Signal-to-noise ratio\n",
    "addmode = 'all'\n",
    "c = constants.c.to(u.km/u.s).value"
   ]
  },
  {
   "cell_type": "code",
   "execution_count": 43,
   "metadata": {
    "collapsed": true
   },
   "outputs": [],
   "source": [
    "# Find the appropriate models\n",
    "model_list = StellarModel.GetModelList(type='hdf5',\n",
    "                                           hdf5_file=hdf5_file,\n",
    "                                           temperature=Tvalues,\n",
    "                                           metal=metal_values,\n",
    "                                           logg=logg_values)\n",
    "modeldict, processed = StellarModel.MakeModelDicts(model_list, type='hdf5', hdf5_file=hdf5_file,\n",
    "                                                       vsini_values=vsini_values, vac2air=True, logspace=True)"
   ]
  },
  {
   "cell_type": "code",
   "execution_count": 44,
   "metadata": {
    "collapsed": false
   },
   "outputs": [
    {
     "data": {
      "image/png": "[encoded data removed]",
      "text/plain": [
       "<matplotlib.figure.Figure at 0x7fcb88de76d0>"
      ]
     },
     "metadata": {},
     "output_type": "display_data"
    }
   ],
   "source": [
    "# Read in a data spectrum (used for the wavelengths only)\n",
    "processed_orders = GenericSearch.Process_Data(data_file, badregions=badregions, trimsize=trimsize, \n",
    "                                              logspacing=True, reject_outliers=False)\n",
    "for order in processed_orders:\n",
    "    plt.plot(order.x, order.y, 'k-')\n",
    "\n",
    "low_wave = processed_orders[0].x[0]\n",
    "high_wave = processed_orders[-1].x[-1]\n",
    "Npix = np.sum([o.size() for o in processed_orders])"
   ]
  },
  {
   "cell_type": "code",
   "execution_count": 45,
   "metadata": {
    "collapsed": true
   },
   "outputs": [],
   "source": [
    "def check_rv(corr, params, hdf5_output, n_pixels=None):\n",
    "    if params['addmode'].lower() == 'all':\n",
    "        for am in corr.keys():\n",
    "            p = params\n",
    "            p['addmode'] = am\n",
    "            check_rv(corr[am], p, hdf5_output, n_pixels=n_pixels)\n",
    "        return\n",
    "    \n",
    "    # Create new dataset in hdf5 output file\n",
    "    f = h5py.File(hdf5_output, 'a')\n",
    "    grp = f.require_group('{group:s}/addmode-{addmode}/T{teff:.0f}/logg{logg:.1f}/feh{feh:+.1f}/vsini{vsini:.0f}'.format(**params))\n",
    "    ds_name = 'ds{}'.format(len(grp.keys())+1)\n",
    "    ds = grp.create_dataset(ds_name, data=np.array((corr.x, corr.y)), maxshape=(2, None))\n",
    "    logging.debug('Generating dataset with name {}'.format(ds.name))\n",
    "    \n",
    "    # Add attributes\n",
    "    ds.attrs['teff'] = params['teff']\n",
    "    ds.attrs['logg'] = params['logg']\n",
    "    ds.attrs['feh'] = params['feh']\n",
    "    ds.attrs['vsini'] = params['vsini']\n",
    "    ds.attrs['true_rv'] = params['velocity']\n",
    "    ds.attrs['addmode'] = params['addmode']\n",
    "    rv, rv_err, ccf_val = Correlate.get_rv(corr.x, corr.y, Npix=n_pixels)\n",
    "    ds.attrs['vel_max'] = rv\n",
    "    ds.attrs['vel_max_err'] = rv_err\n",
    "    ds.attrs['ccf_max'] = ccf_val\n",
    "    logging.debug('True rv = {:.4f}\\tMeasured rv = {:.4f} +/- {:.5f}'.format(params['velocity'], rv, rv_err))\n",
    "    \n",
    "    f.flush()\n",
    "    f.close()\n",
    "    "
   ]
  },
  {
   "cell_type": "code",
   "execution_count": 46,
   "metadata": {
    "collapsed": false,
    "scrolled": true
   },
   "outputs": [
    {
     "name": "stderr",
     "output_type": "stream",
     "text": [
      "INFO:root:\n",
      "T: 7000, logg: 4.0, [Fe/H]: 0.0, vsini: 50\n",
      "INFO:root:\n",
      "T: 7000, logg: 4.0, [Fe/H]: 0.0, vsini: 75\n"
     ]
    },
    {
     "name": "stdout",
     "output_type": "stream",
     "text": [
      "\n",
      "\n",
      "\n"
     ]
    },
    {
     "name": "stderr",
     "output_type": "stream",
     "text": [
      "INFO:root:\n",
      "T: 7000, logg: 4.0, [Fe/H]: 0.0, vsini: 100\n"
     ]
    },
    {
     "name": "stdout",
     "output_type": "stream",
     "text": [
      "\n",
      "\n"
     ]
    },
    {
     "name": "stderr",
     "output_type": "stream",
     "text": [
      "INFO:root:\n",
      "T: 7000, logg: 4.0, [Fe/H]: 0.0, vsini: 125\n"
     ]
    },
    {
     "name": "stdout",
     "output_type": "stream",
     "text": [
      "\n",
      "\n"
     ]
    },
    {
     "name": "stderr",
     "output_type": "stream",
     "text": [
      "INFO:root:\n",
      "T: 7000, logg: 4.0, [Fe/H]: 0.0, vsini: 150\n"
     ]
    },
    {
     "name": "stdout",
     "output_type": "stream",
     "text": [
      "\n",
      "\n"
     ]
    },
    {
     "name": "stderr",
     "output_type": "stream",
     "text": [
      "INFO:root:\n",
      "T: 7000, logg: 4.0, [Fe/H]: 0.0, vsini: 175\n"
     ]
    },
    {
     "name": "stdout",
     "output_type": "stream",
     "text": [
      "\n",
      "\n"
     ]
    },
    {
     "name": "stderr",
     "output_type": "stream",
     "text": [
      "INFO:root:\n",
      "T: 7000, logg: 4.0, [Fe/H]: 0.0, vsini: 200\n"
     ]
    },
    {
     "name": "stdout",
     "output_type": "stream",
     "text": [
      "\n",
      "\n"
     ]
    },
    {
     "name": "stderr",
     "output_type": "stream",
     "text": [
      "INFO:root:\n",
      "T: 7000, logg: 4.0, [Fe/H]: 0.0, vsini: 225\n"
     ]
    },
    {
     "name": "stdout",
     "output_type": "stream",
     "text": [
      "\n",
      "\n"
     ]
    },
    {
     "name": "stderr",
     "output_type": "stream",
     "text": [
      "INFO:root:\n",
      "T: 7000, logg: 4.0, [Fe/H]: 0.0, vsini: 250\n"
     ]
    },
    {
     "name": "stdout",
     "output_type": "stream",
     "text": [
      "\n",
      "\n"
     ]
    },
    {
     "name": "stderr",
     "output_type": "stream",
     "text": [
      "INFO:root:\n",
      "T: 7000, logg: 4.0, [Fe/H]: 0.0, vsini: 275\n"
     ]
    },
    {
     "name": "stdout",
     "output_type": "stream",
     "text": [
      "\n",
      "\n"
     ]
    },
    {
     "name": "stderr",
     "output_type": "stream",
     "text": [
      "INFO:root:\n",
      "T: 7000, logg: 4.0, [Fe/H]: 0.0, vsini: 300\n"
     ]
    },
    {
     "name": "stdout",
     "output_type": "stream",
     "text": [
      "\n",
      "\n"
     ]
    },
    {
     "name": "stderr",
     "output_type": "stream",
     "text": [
      "INFO:root:\n",
      "T: 8000, logg: 4.0, [Fe/H]: 0.0, vsini: 50\n"
     ]
    },
    {
     "name": "stdout",
     "output_type": "stream",
     "text": [
      "\n",
      "\n"
     ]
    },
    {
     "name": "stderr",
     "output_type": "stream",
     "text": [
      "INFO:root:\n",
      "T: 8000, logg: 4.0, [Fe/H]: 0.0, vsini: 75\n"
     ]
    },
    {
     "name": "stdout",
     "output_type": "stream",
     "text": [
      "\n",
      "\n"
     ]
    },
    {
     "name": "stderr",
     "output_type": "stream",
     "text": [
      "INFO:root:\n",
      "T: 8000, logg: 4.0, [Fe/H]: 0.0, vsini: 100\n"
     ]
    },
    {
     "name": "stdout",
     "output_type": "stream",
     "text": [
      "\n",
      "\n"
     ]
    },
    {
     "name": "stderr",
     "output_type": "stream",
     "text": [
      "INFO:root:\n",
      "T: 8000, logg: 4.0, [Fe/H]: 0.0, vsini: 125\n"
     ]
    },
    {
     "name": "stdout",
     "output_type": "stream",
     "text": [
      "\n",
      "\n"
     ]
    },
    {
     "name": "stderr",
     "output_type": "stream",
     "text": [
      "INFO:root:\n",
      "T: 8000, logg: 4.0, [Fe/H]: 0.0, vsini: 150\n"
     ]
    },
    {
     "name": "stdout",
     "output_type": "stream",
     "text": [
      "\n",
      "\n"
     ]
    },
    {
     "name": "stderr",
     "output_type": "stream",
     "text": [
      "INFO:root:\n",
      "T: 8000, logg: 4.0, [Fe/H]: 0.0, vsini: 175\n"
     ]
    },
    {
     "name": "stdout",
     "output_type": "stream",
     "text": [
      "\n",
      "\n"
     ]
    },
    {
     "name": "stderr",
     "output_type": "stream",
     "text": [
      "INFO:root:\n",
      "T: 8000, logg: 4.0, [Fe/H]: 0.0, vsini: 200\n"
     ]
    },
    {
     "name": "stdout",
     "output_type": "stream",
     "text": [
      "\n",
      "\n"
     ]
    },
    {
     "name": "stderr",
     "output_type": "stream",
     "text": [
      "INFO:root:\n",
      "T: 8000, logg: 4.0, [Fe/H]: 0.0, vsini: 225\n"
     ]
    },
    {
     "name": "stdout",
     "output_type": "stream",
     "text": [
      "\n",
      "\n"
     ]
    },
    {
     "name": "stderr",
     "output_type": "stream",
     "text": [
      "INFO:root:\n",
      "T: 8000, logg: 4.0, [Fe/H]: 0.0, vsini: 250\n"
     ]
    },
    {
     "name": "stdout",
     "output_type": "stream",
     "text": [
      "\n",
      "\n"
     ]
    },
    {
     "name": "stderr",
     "output_type": "stream",
     "text": [
      "INFO:root:\n",
      "T: 8000, logg: 4.0, [Fe/H]: 0.0, vsini: 275\n"
     ]
    },
    {
     "name": "stdout",
     "output_type": "stream",
     "text": [
      "\n",
      "\n"
     ]
    },
    {
     "name": "stderr",
     "output_type": "stream",
     "text": [
      "INFO:root:\n",
      "T: 8000, logg: 4.0, [Fe/H]: 0.0, vsini: 300\n"
     ]
    },
    {
     "name": "stdout",
     "output_type": "stream",
     "text": [
      "\n",
      "\n"
     ]
    },
    {
     "name": "stderr",
     "output_type": "stream",
     "text": [
      "INFO:root:\n",
      "T: 9000, logg: 4.0, [Fe/H]: 0.0, vsini: 50\n"
     ]
    },
    {
     "name": "stdout",
     "output_type": "stream",
     "text": [
      "\n",
      "\n"
     ]
    },
    {
     "name": "stderr",
     "output_type": "stream",
     "text": [
      "INFO:root:\n",
      "T: 9000, logg: 4.0, [Fe/H]: 0.0, vsini: 75\n"
     ]
    },
    {
     "name": "stdout",
     "output_type": "stream",
     "text": [
      "\n",
      "\n"
     ]
    },
    {
     "name": "stderr",
     "output_type": "stream",
     "text": [
      "INFO:root:\n",
      "T: 9000, logg: 4.0, [Fe/H]: 0.0, vsini: 100\n"
     ]
    },
    {
     "name": "stdout",
     "output_type": "stream",
     "text": [
      "\n",
      "\n"
     ]
    },
    {
     "name": "stderr",
     "output_type": "stream",
     "text": [
      "INFO:root:\n",
      "T: 9000, logg: 4.0, [Fe/H]: 0.0, vsini: 125\n"
     ]
    },
    {
     "name": "stdout",
     "output_type": "stream",
     "text": [
      "\n",
      "\n"
     ]
    },
    {
     "name": "stderr",
     "output_type": "stream",
     "text": [
      "INFO:root:\n",
      "T: 9000, logg: 4.0, [Fe/H]: 0.0, vsini: 150\n"
     ]
    },
    {
     "name": "stdout",
     "output_type": "stream",
     "text": [
      "\n",
      "\n"
     ]
    },
    {
     "name": "stderr",
     "output_type": "stream",
     "text": [
      "INFO:root:\n",
      "T: 9000, logg: 4.0, [Fe/H]: 0.0, vsini: 175\n"
     ]
    },
    {
     "name": "stdout",
     "output_type": "stream",
     "text": [
      "\n",
      "\n"
     ]
    },
    {
     "name": "stderr",
     "output_type": "stream",
     "text": [
      "INFO:root:\n",
      "T: 9000, logg: 4.0, [Fe/H]: 0.0, vsini: 200\n"
     ]
    },
    {
     "name": "stdout",
     "output_type": "stream",
     "text": [
      "\n",
      "\n"
     ]
    },
    {
     "name": "stderr",
     "output_type": "stream",
     "text": [
      "INFO:root:\n",
      "T: 9000, logg: 4.0, [Fe/H]: 0.0, vsini: 225\n"
     ]
    },
    {
     "name": "stdout",
     "output_type": "stream",
     "text": [
      "\n",
      "\n"
     ]
    },
    {
     "name": "stderr",
     "output_type": "stream",
     "text": [
      "INFO:root:\n",
      "T: 9000, logg: 4.0, [Fe/H]: 0.0, vsini: 250\n"
     ]
    },
    {
     "name": "stdout",
     "output_type": "stream",
     "text": [
      "\n",
      "\n"
     ]
    },
    {
     "name": "stderr",
     "output_type": "stream",
     "text": [
      "INFO:root:\n",
      "T: 9000, logg: 4.0, [Fe/H]: 0.0, vsini: 275\n"
     ]
    },
    {
     "name": "stdout",
     "output_type": "stream",
     "text": [
      "\n",
      "\n"
     ]
    },
    {
     "name": "stderr",
     "output_type": "stream",
     "text": [
      "INFO:root:\n",
      "T: 9000, logg: 4.0, [Fe/H]: 0.0, vsini: 300\n"
     ]
    },
    {
     "name": "stdout",
     "output_type": "stream",
     "text": [
      "\n",
      "\n"
     ]
    },
    {
     "name": "stderr",
     "output_type": "stream",
     "text": [
      "INFO:root:\n",
      "T: 10000, logg: 4.0, [Fe/H]: 0.0, vsini: 50\n"
     ]
    },
    {
     "name": "stdout",
     "output_type": "stream",
     "text": [
      "\n",
      "\n"
     ]
    },
    {
     "name": "stderr",
     "output_type": "stream",
     "text": [
      "INFO:root:\n",
      "T: 10000, logg: 4.0, [Fe/H]: 0.0, vsini: 75\n"
     ]
    },
    {
     "name": "stdout",
     "output_type": "stream",
     "text": [
      "\n",
      "\n"
     ]
    },
    {
     "name": "stderr",
     "output_type": "stream",
     "text": [
      "INFO:root:\n",
      "T: 10000, logg: 4.0, [Fe/H]: 0.0, vsini: 100\n"
     ]
    },
    {
     "name": "stdout",
     "output_type": "stream",
     "text": [
      "\n",
      "\n"
     ]
    },
    {
     "name": "stderr",
     "output_type": "stream",
     "text": [
      "INFO:root:\n",
      "T: 10000, logg: 4.0, [Fe/H]: 0.0, vsini: 125\n"
     ]
    },
    {
     "name": "stdout",
     "output_type": "stream",
     "text": [
      "\n",
      "\n"
     ]
    },
    {
     "name": "stderr",
     "output_type": "stream",
     "text": [
      "INFO:root:\n",
      "T: 10000, logg: 4.0, [Fe/H]: 0.0, vsini: 150\n"
     ]
    },
    {
     "name": "stdout",
     "output_type": "stream",
     "text": [
      "\n",
      "\n"
     ]
    },
    {
     "name": "stderr",
     "output_type": "stream",
     "text": [
      "INFO:root:\n",
      "T: 10000, logg: 4.0, [Fe/H]: 0.0, vsini: 175\n"
     ]
    },
    {
     "name": "stdout",
     "output_type": "stream",
     "text": [
      "\n",
      "\n"
     ]
    },
    {
     "name": "stderr",
     "output_type": "stream",
     "text": [
      "INFO:root:\n",
      "T: 10000, logg: 4.0, [Fe/H]: 0.0, vsini: 200\n"
     ]
    },
    {
     "name": "stdout",
     "output_type": "stream",
     "text": [
      "\n",
      "\n"
     ]
    },
    {
     "name": "stderr",
     "output_type": "stream",
     "text": [
      "INFO:root:\n",
      "T: 10000, logg: 4.0, [Fe/H]: 0.0, vsini: 225\n"
     ]
    },
    {
     "name": "stdout",
     "output_type": "stream",
     "text": [
      "\n",
      "\n"
     ]
    },
    {
     "name": "stderr",
     "output_type": "stream",
     "text": [
      "INFO:root:\n",
      "T: 10000, logg: 4.0, [Fe/H]: 0.0, vsini: 250\n"
     ]
    },
    {
     "name": "stdout",
     "output_type": "stream",
     "text": [
      "\n",
      "\n"
     ]
    },
    {
     "name": "stderr",
     "output_type": "stream",
     "text": [
      "INFO:root:\n",
      "T: 10000, logg: 4.0, [Fe/H]: 0.0, vsini: 275\n"
     ]
    },
    {
     "name": "stdout",
     "output_type": "stream",
     "text": [
      "\n",
      "\n"
     ]
    },
    {
     "name": "stderr",
     "output_type": "stream",
     "text": [
      "INFO:root:\n",
      "T: 10000, logg: 4.0, [Fe/H]: 0.0, vsini: 300\n"
     ]
    },
    {
     "name": "stdout",
     "output_type": "stream",
     "text": [
      "\n",
      "\n"
     ]
    },
    {
     "name": "stderr",
     "output_type": "stream",
     "text": [
      "INFO:root:\n",
      "T: 12000, logg: 4.0, [Fe/H]: 0.0, vsini: 50\n"
     ]
    },
    {
     "name": "stdout",
     "output_type": "stream",
     "text": [
      "\n",
      "\n"
     ]
    },
    {
     "name": "stderr",
     "output_type": "stream",
     "text": [
      "INFO:root:\n",
      "T: 12000, logg: 4.0, [Fe/H]: 0.0, vsini: 75\n"
     ]
    },
    {
     "name": "stdout",
     "output_type": "stream",
     "text": [
      "\n",
      "\n"
     ]
    },
    {
     "name": "stderr",
     "output_type": "stream",
     "text": [
      "INFO:root:\n",
      "T: 12000, logg: 4.0, [Fe/H]: 0.0, vsini: 100\n"
     ]
    },
    {
     "name": "stdout",
     "output_type": "stream",
     "text": [
      "\n",
      "\n"
     ]
    },
    {
     "name": "stderr",
     "output_type": "stream",
     "text": [
      "INFO:root:\n",
      "T: 12000, logg: 4.0, [Fe/H]: 0.0, vsini: 125\n"
     ]
    },
    {
     "name": "stdout",
     "output_type": "stream",
     "text": [
      "\n",
      "\n"
     ]
    },
    {
     "name": "stderr",
     "output_type": "stream",
     "text": [
      "INFO:root:\n",
      "T: 12000, logg: 4.0, [Fe/H]: 0.0, vsini: 150\n"
     ]
    },
    {
     "name": "stdout",
     "output_type": "stream",
     "text": [
      "\n",
      "\n"
     ]
    },
    {
     "name": "stderr",
     "output_type": "stream",
     "text": [
      "INFO:root:\n",
      "T: 12000, logg: 4.0, [Fe/H]: 0.0, vsini: 175\n"
     ]
    },
    {
     "name": "stdout",
     "output_type": "stream",
     "text": [
      "\n",
      "\n"
     ]
    },
    {
     "name": "stderr",
     "output_type": "stream",
     "text": [
      "INFO:root:\n",
      "T: 12000, logg: 4.0, [Fe/H]: 0.0, vsini: 200\n"
     ]
    },
    {
     "name": "stdout",
     "output_type": "stream",
     "text": [
      "\n",
      "\n"
     ]
    },
    {
     "name": "stderr",
     "output_type": "stream",
     "text": [
      "INFO:root:\n",
      "T: 12000, logg: 4.0, [Fe/H]: 0.0, vsini: 225\n"
     ]
    },
    {
     "name": "stdout",
     "output_type": "stream",
     "text": [
      "\n",
      "\n"
     ]
    },
    {
     "name": "stderr",
     "output_type": "stream",
     "text": [
      "INFO:root:\n",
      "T: 12000, logg: 4.0, [Fe/H]: 0.0, vsini: 250\n"
     ]
    },
    {
     "name": "stdout",
     "output_type": "stream",
     "text": [
      "\n",
      "\n"
     ]
    },
    {
     "name": "stderr",
     "output_type": "stream",
     "text": [
      "INFO:root:\n",
      "T: 12000, logg: 4.0, [Fe/H]: 0.0, vsini: 275\n"
     ]
    },
    {
     "name": "stdout",
     "output_type": "stream",
     "text": [
      "\n",
      "\n"
     ]
    },
    {
     "name": "stderr",
     "output_type": "stream",
     "text": [
      "INFO:root:\n",
      "T: 12000, logg: 4.0, [Fe/H]: 0.0, vsini: 300\n"
     ]
    },
    {
     "name": "stdout",
     "output_type": "stream",
     "text": [
      "\n",
      "\n"
     ]
    },
    {
     "name": "stderr",
     "output_type": "stream",
     "text": [
      "INFO:root:\n",
      "T: 14000, logg: 4.0, [Fe/H]: 0.0, vsini: 50\n"
     ]
    },
    {
     "name": "stdout",
     "output_type": "stream",
     "text": [
      "\n",
      "\n"
     ]
    },
    {
     "name": "stderr",
     "output_type": "stream",
     "text": [
      "INFO:root:\n",
      "T: 14000, logg: 4.0, [Fe/H]: 0.0, vsini: 75\n"
     ]
    },
    {
     "name": "stdout",
     "output_type": "stream",
     "text": [
      "\n",
      "\n"
     ]
    },
    {
     "name": "stderr",
     "output_type": "stream",
     "text": [
      "INFO:root:\n",
      "T: 14000, logg: 4.0, [Fe/H]: 0.0, vsini: 100\n"
     ]
    },
    {
     "name": "stdout",
     "output_type": "stream",
     "text": [
      "\n",
      "\n"
     ]
    },
    {
     "name": "stderr",
     "output_type": "stream",
     "text": [
      "INFO:root:\n",
      "T: 14000, logg: 4.0, [Fe/H]: 0.0, vsini: 125\n"
     ]
    },
    {
     "name": "stdout",
     "output_type": "stream",
     "text": [
      "\n",
      "\n"
     ]
    },
    {
     "name": "stderr",
     "output_type": "stream",
     "text": [
      "INFO:root:\n",
      "T: 14000, logg: 4.0, [Fe/H]: 0.0, vsini: 150\n"
     ]
    },
    {
     "name": "stdout",
     "output_type": "stream",
     "text": [
      "\n",
      "\n"
     ]
    },
    {
     "name": "stderr",
     "output_type": "stream",
     "text": [
      "INFO:root:\n",
      "T: 14000, logg: 4.0, [Fe/H]: 0.0, vsini: 175\n"
     ]
    },
    {
     "name": "stdout",
     "output_type": "stream",
     "text": [
      "\n",
      "\n"
     ]
    },
    {
     "name": "stderr",
     "output_type": "stream",
     "text": [
      "INFO:root:\n",
      "T: 14000, logg: 4.0, [Fe/H]: 0.0, vsini: 200\n"
     ]
    },
    {
     "name": "stdout",
     "output_type": "stream",
     "text": [
      "\n",
      "\n"
     ]
    },
    {
     "name": "stderr",
     "output_type": "stream",
     "text": [
      "INFO:root:\n",
      "T: 14000, logg: 4.0, [Fe/H]: 0.0, vsini: 225\n"
     ]
    },
    {
     "name": "stdout",
     "output_type": "stream",
     "text": [
      "\n",
      "\n"
     ]
    },
    {
     "name": "stderr",
     "output_type": "stream",
     "text": [
      "INFO:root:\n",
      "T: 14000, logg: 4.0, [Fe/H]: 0.0, vsini: 250\n"
     ]
    },
    {
     "name": "stdout",
     "output_type": "stream",
     "text": [
      "\n",
      "\n"
     ]
    },
    {
     "name": "stderr",
     "output_type": "stream",
     "text": [
      "INFO:root:\n",
      "T: 14000, logg: 4.0, [Fe/H]: 0.0, vsini: 275\n"
     ]
    },
    {
     "name": "stdout",
     "output_type": "stream",
     "text": [
      "\n",
      "\n"
     ]
    },
    {
     "name": "stderr",
     "output_type": "stream",
     "text": [
      "INFO:root:\n",
      "T: 14000, logg: 4.0, [Fe/H]: 0.0, vsini: 300\n"
     ]
    },
    {
     "name": "stdout",
     "output_type": "stream",
     "text": [
      "\n",
      "\n"
     ]
    },
    {
     "name": "stderr",
     "output_type": "stream",
     "text": [
      "INFO:root:\n",
      "T: 16000, logg: 4.0, [Fe/H]: 0.0, vsini: 50\n"
     ]
    },
    {
     "name": "stdout",
     "output_type": "stream",
     "text": [
      "\n",
      "\n"
     ]
    },
    {
     "name": "stderr",
     "output_type": "stream",
     "text": [
      "INFO:root:\n",
      "T: 16000, logg: 4.0, [Fe/H]: 0.0, vsini: 75\n"
     ]
    },
    {
     "name": "stdout",
     "output_type": "stream",
     "text": [
      "\n",
      "\n"
     ]
    },
    {
     "name": "stderr",
     "output_type": "stream",
     "text": [
      "INFO:root:\n",
      "T: 16000, logg: 4.0, [Fe/H]: 0.0, vsini: 100\n"
     ]
    },
    {
     "name": "stdout",
     "output_type": "stream",
     "text": [
      "\n",
      "\n"
     ]
    },
    {
     "name": "stderr",
     "output_type": "stream",
     "text": [
      "INFO:root:\n",
      "T: 16000, logg: 4.0, [Fe/H]: 0.0, vsini: 125\n"
     ]
    },
    {
     "name": "stdout",
     "output_type": "stream",
     "text": [
      "\n",
      "\n"
     ]
    },
    {
     "name": "stderr",
     "output_type": "stream",
     "text": [
      "INFO:root:\n",
      "T: 16000, logg: 4.0, [Fe/H]: 0.0, vsini: 150\n"
     ]
    },
    {
     "name": "stdout",
     "output_type": "stream",
     "text": [
      "\n",
      "\n"
     ]
    },
    {
     "name": "stderr",
     "output_type": "stream",
     "text": [
      "INFO:root:\n",
      "T: 16000, logg: 4.0, [Fe/H]: 0.0, vsini: 175\n"
     ]
    },
    {
     "name": "stdout",
     "output_type": "stream",
     "text": [
      "\n",
      "\n"
     ]
    },
    {
     "name": "stderr",
     "output_type": "stream",
     "text": [
      "INFO:root:\n",
      "T: 16000, logg: 4.0, [Fe/H]: 0.0, vsini: 200\n"
     ]
    },
    {
     "name": "stdout",
     "output_type": "stream",
     "text": [
      "\n",
      "\n"
     ]
    },
    {
     "name": "stderr",
     "output_type": "stream",
     "text": [
      "INFO:root:\n",
      "T: 16000, logg: 4.0, [Fe/H]: 0.0, vsini: 225\n"
     ]
    },
    {
     "name": "stdout",
     "output_type": "stream",
     "text": [
      "\n",
      "\n"
     ]
    },
    {
     "name": "stderr",
     "output_type": "stream",
     "text": [
      "INFO:root:\n",
      "T: 16000, logg: 4.0, [Fe/H]: 0.0, vsini: 250\n"
     ]
    },
    {
     "name": "stdout",
     "output_type": "stream",
     "text": [
      "\n",
      "\n"
     ]
    },
    {
     "name": "stderr",
     "output_type": "stream",
     "text": [
      "INFO:root:\n",
      "T: 16000, logg: 4.0, [Fe/H]: 0.0, vsini: 275\n"
     ]
    },
    {
     "name": "stdout",
     "output_type": "stream",
     "text": [
      "\n",
      "\n"
     ]
    },
    {
     "name": "stderr",
     "output_type": "stream",
     "text": [
      "INFO:root:\n",
      "T: 16000, logg: 4.0, [Fe/H]: 0.0, vsini: 300\n"
     ]
    },
    {
     "name": "stdout",
     "output_type": "stream",
     "text": [
      "\n",
      "\n"
     ]
    },
    {
     "name": "stderr",
     "output_type": "stream",
     "text": [
      "INFO:root:\n",
      "T: 18000, logg: 4.0, [Fe/H]: 0.0, vsini: 50\n"
     ]
    },
    {
     "name": "stdout",
     "output_type": "stream",
     "text": [
      "\n",
      "\n"
     ]
    },
    {
     "name": "stderr",
     "output_type": "stream",
     "text": [
      "INFO:root:\n",
      "T: 18000, logg: 4.0, [Fe/H]: 0.0, vsini: 75\n"
     ]
    },
    {
     "name": "stdout",
     "output_type": "stream",
     "text": [
      "\n",
      "\n"
     ]
    },
    {
     "name": "stderr",
     "output_type": "stream",
     "text": [
      "INFO:root:\n",
      "T: 18000, logg: 4.0, [Fe/H]: 0.0, vsini: 100\n"
     ]
    },
    {
     "name": "stdout",
     "output_type": "stream",
     "text": [
      "\n",
      "\n"
     ]
    },
    {
     "name": "stderr",
     "output_type": "stream",
     "text": [
      "INFO:root:\n",
      "T: 18000, logg: 4.0, [Fe/H]: 0.0, vsini: 125\n"
     ]
    },
    {
     "name": "stdout",
     "output_type": "stream",
     "text": [
      "\n",
      "\n"
     ]
    },
    {
     "name": "stderr",
     "output_type": "stream",
     "text": [
      "INFO:root:\n",
      "T: 18000, logg: 4.0, [Fe/H]: 0.0, vsini: 150\n"
     ]
    },
    {
     "name": "stdout",
     "output_type": "stream",
     "text": [
      "\n",
      "\n"
     ]
    },
    {
     "name": "stderr",
     "output_type": "stream",
     "text": [
      "INFO:root:\n",
      "T: 18000, logg: 4.0, [Fe/H]: 0.0, vsini: 175\n"
     ]
    },
    {
     "name": "stdout",
     "output_type": "stream",
     "text": [
      "\n",
      "\n"
     ]
    },
    {
     "name": "stderr",
     "output_type": "stream",
     "text": [
      "INFO:root:\n",
      "T: 18000, logg: 4.0, [Fe/H]: 0.0, vsini: 200\n"
     ]
    },
    {
     "name": "stdout",
     "output_type": "stream",
     "text": [
      "\n",
      "\n"
     ]
    },
    {
     "name": "stderr",
     "output_type": "stream",
     "text": [
      "INFO:root:\n",
      "T: 18000, logg: 4.0, [Fe/H]: 0.0, vsini: 225\n"
     ]
    },
    {
     "name": "stdout",
     "output_type": "stream",
     "text": [
      "\n",
      "\n"
     ]
    },
    {
     "name": "stderr",
     "output_type": "stream",
     "text": [
      "INFO:root:\n",
      "T: 18000, logg: 4.0, [Fe/H]: 0.0, vsini: 250\n"
     ]
    },
    {
     "name": "stdout",
     "output_type": "stream",
     "text": [
      "\n",
      "\n"
     ]
    },
    {
     "name": "stderr",
     "output_type": "stream",
     "text": [
      "INFO:root:\n",
      "T: 18000, logg: 4.0, [Fe/H]: 0.0, vsini: 275\n"
     ]
    },
    {
     "name": "stdout",
     "output_type": "stream",
     "text": [
      "\n",
      "\n"
     ]
    },
    {
     "name": "stderr",
     "output_type": "stream",
     "text": [
      "INFO:root:\n",
      "T: 18000, logg: 4.0, [Fe/H]: 0.0, vsini: 300\n"
     ]
    },
    {
     "name": "stdout",
     "output_type": "stream",
     "text": [
      "\n",
      "\n"
     ]
    },
    {
     "name": "stderr",
     "output_type": "stream",
     "text": [
      "INFO:root:\n",
      "T: 20000, logg: 4.0, [Fe/H]: 0.0, vsini: 50\n"
     ]
    },
    {
     "name": "stdout",
     "output_type": "stream",
     "text": [
      "\n",
      "\n"
     ]
    },
    {
     "name": "stderr",
     "output_type": "stream",
     "text": [
      "INFO:root:\n",
      "T: 20000, logg: 4.0, [Fe/H]: 0.0, vsini: 75\n"
     ]
    },
    {
     "name": "stdout",
     "output_type": "stream",
     "text": [
      "\n",
      "\n"
     ]
    },
    {
     "name": "stderr",
     "output_type": "stream",
     "text": [
      "INFO:root:\n",
      "T: 20000, logg: 4.0, [Fe/H]: 0.0, vsini: 100\n"
     ]
    },
    {
     "name": "stdout",
     "output_type": "stream",
     "text": [
      "\n",
      "\n"
     ]
    },
    {
     "name": "stderr",
     "output_type": "stream",
     "text": [
      "INFO:root:\n",
      "T: 20000, logg: 4.0, [Fe/H]: 0.0, vsini: 125\n"
     ]
    },
    {
     "name": "stdout",
     "output_type": "stream",
     "text": [
      "\n",
      "\n"
     ]
    },
    {
     "name": "stderr",
     "output_type": "stream",
     "text": [
      "INFO:root:\n",
      "T: 20000, logg: 4.0, [Fe/H]: 0.0, vsini: 150\n"
     ]
    },
    {
     "name": "stdout",
     "output_type": "stream",
     "text": [
      "\n",
      "\n"
     ]
    },
    {
     "name": "stderr",
     "output_type": "stream",
     "text": [
      "INFO:root:\n",
      "T: 20000, logg: 4.0, [Fe/H]: 0.0, vsini: 175\n"
     ]
    },
    {
     "name": "stdout",
     "output_type": "stream",
     "text": [
      "\n",
      "\n"
     ]
    },
    {
     "name": "stderr",
     "output_type": "stream",
     "text": [
      "INFO:root:\n",
      "T: 20000, logg: 4.0, [Fe/H]: 0.0, vsini: 200\n"
     ]
    },
    {
     "name": "stdout",
     "output_type": "stream",
     "text": [
      "\n",
      "\n"
     ]
    },
    {
     "name": "stderr",
     "output_type": "stream",
     "text": [
      "INFO:root:\n",
      "T: 20000, logg: 4.0, [Fe/H]: 0.0, vsini: 225\n"
     ]
    },
    {
     "name": "stdout",
     "output_type": "stream",
     "text": [
      "\n",
      "\n"
     ]
    },
    {
     "name": "stderr",
     "output_type": "stream",
     "text": [
      "INFO:root:\n",
      "T: 20000, logg: 4.0, [Fe/H]: 0.0, vsini: 250\n"
     ]
    },
    {
     "name": "stdout",
     "output_type": "stream",
     "text": [
      "\n",
      "\n"
     ]
    },
    {
     "name": "stderr",
     "output_type": "stream",
     "text": [
      "INFO:root:\n",
      "T: 20000, logg: 4.0, [Fe/H]: 0.0, vsini: 275\n"
     ]
    },
    {
     "name": "stdout",
     "output_type": "stream",
     "text": [
      "\n",
      "\n"
     ]
    },
    {
     "name": "stderr",
     "output_type": "stream",
     "text": [
      "INFO:root:\n",
      "T: 20000, logg: 4.0, [Fe/H]: 0.0, vsini: 300\n"
     ]
    },
    {
     "name": "stdout",
     "output_type": "stream",
     "text": [
      "\n",
      "\n"
     ]
    },
    {
     "name": "stderr",
     "output_type": "stream",
     "text": [
      "INFO:root:\n",
      "T: 22000, logg: 4.0, [Fe/H]: 0.0, vsini: 50\n"
     ]
    },
    {
     "name": "stdout",
     "output_type": "stream",
     "text": [
      "\n",
      "\n"
     ]
    },
    {
     "name": "stderr",
     "output_type": "stream",
     "text": [
      "INFO:root:\n",
      "T: 22000, logg: 4.0, [Fe/H]: 0.0, vsini: 75\n"
     ]
    },
    {
     "name": "stdout",
     "output_type": "stream",
     "text": [
      "\n",
      "\n"
     ]
    },
    {
     "name": "stderr",
     "output_type": "stream",
     "text": [
      "INFO:root:\n",
      "T: 22000, logg: 4.0, [Fe/H]: 0.0, vsini: 100\n"
     ]
    },
    {
     "name": "stdout",
     "output_type": "stream",
     "text": [
      "\n",
      "\n"
     ]
    },
    {
     "name": "stderr",
     "output_type": "stream",
     "text": [
      "INFO:root:\n",
      "T: 22000, logg: 4.0, [Fe/H]: 0.0, vsini: 125\n"
     ]
    },
    {
     "name": "stdout",
     "output_type": "stream",
     "text": [
      "\n",
      "\n"
     ]
    },
    {
     "name": "stderr",
     "output_type": "stream",
     "text": [
      "INFO:root:\n",
      "T: 22000, logg: 4.0, [Fe/H]: 0.0, vsini: 150\n"
     ]
    },
    {
     "name": "stdout",
     "output_type": "stream",
     "text": [
      "\n",
      "\n"
     ]
    },
    {
     "name": "stderr",
     "output_type": "stream",
     "text": [
      "INFO:root:\n",
      "T: 22000, logg: 4.0, [Fe/H]: 0.0, vsini: 175\n"
     ]
    },
    {
     "name": "stdout",
     "output_type": "stream",
     "text": [
      "\n",
      "\n"
     ]
    },
    {
     "name": "stderr",
     "output_type": "stream",
     "text": [
      "INFO:root:\n",
      "T: 22000, logg: 4.0, [Fe/H]: 0.0, vsini: 200\n"
     ]
    },
    {
     "name": "stdout",
     "output_type": "stream",
     "text": [
      "\n",
      "\n"
     ]
    },
    {
     "name": "stderr",
     "output_type": "stream",
     "text": [
      "INFO:root:\n",
      "T: 22000, logg: 4.0, [Fe/H]: 0.0, vsini: 225\n"
     ]
    },
    {
     "name": "stdout",
     "output_type": "stream",
     "text": [
      "\n",
      "\n"
     ]
    },
    {
     "name": "stderr",
     "output_type": "stream",
     "text": [
      "INFO:root:\n",
      "T: 22000, logg: 4.0, [Fe/H]: 0.0, vsini: 250\n"
     ]
    },
    {
     "name": "stdout",
     "output_type": "stream",
     "text": [
      "\n",
      "\n"
     ]
    },
    {
     "name": "stderr",
     "output_type": "stream",
     "text": [
      "INFO:root:\n",
      "T: 22000, logg: 4.0, [Fe/H]: 0.0, vsini: 275\n"
     ]
    },
    {
     "name": "stdout",
     "output_type": "stream",
     "text": [
      "\n",
      "\n"
     ]
    },
    {
     "name": "stderr",
     "output_type": "stream",
     "text": [
      "INFO:root:\n",
      "T: 22000, logg: 4.0, [Fe/H]: 0.0, vsini: 300\n"
     ]
    },
    {
     "name": "stdout",
     "output_type": "stream",
     "text": [
      "\n",
      "\n"
     ]
    },
    {
     "name": "stderr",
     "output_type": "stream",
     "text": [
      "INFO:root:\n",
      "T: 24000, logg: 4.0, [Fe/H]: 0.0, vsini: 50\n"
     ]
    },
    {
     "name": "stdout",
     "output_type": "stream",
     "text": [
      "\n",
      "\n"
     ]
    },
    {
     "name": "stderr",
     "output_type": "stream",
     "text": [
      "INFO:root:\n",
      "T: 24000, logg: 4.0, [Fe/H]: 0.0, vsini: 75\n"
     ]
    },
    {
     "name": "stdout",
     "output_type": "stream",
     "text": [
      "\n",
      "\n"
     ]
    },
    {
     "name": "stderr",
     "output_type": "stream",
     "text": [
      "INFO:root:\n",
      "T: 24000, logg: 4.0, [Fe/H]: 0.0, vsini: 100\n"
     ]
    },
    {
     "name": "stdout",
     "output_type": "stream",
     "text": [
      "\n",
      "\n"
     ]
    },
    {
     "name": "stderr",
     "output_type": "stream",
     "text": [
      "INFO:root:\n",
      "T: 24000, logg: 4.0, [Fe/H]: 0.0, vsini: 125\n"
     ]
    },
    {
     "name": "stdout",
     "output_type": "stream",
     "text": [
      "\n",
      "\n"
     ]
    },
    {
     "name": "stderr",
     "output_type": "stream",
     "text": [
      "INFO:root:\n",
      "T: 24000, logg: 4.0, [Fe/H]: 0.0, vsini: 150\n"
     ]
    },
    {
     "name": "stdout",
     "output_type": "stream",
     "text": [
      "\n",
      "\n"
     ]
    },
    {
     "name": "stderr",
     "output_type": "stream",
     "text": [
      "INFO:root:\n",
      "T: 24000, logg: 4.0, [Fe/H]: 0.0, vsini: 175\n"
     ]
    },
    {
     "name": "stdout",
     "output_type": "stream",
     "text": [
      "\n",
      "\n"
     ]
    },
    {
     "name": "stderr",
     "output_type": "stream",
     "text": [
      "INFO:root:\n",
      "T: 24000, logg: 4.0, [Fe/H]: 0.0, vsini: 200\n"
     ]
    },
    {
     "name": "stdout",
     "output_type": "stream",
     "text": [
      "\n",
      "\n"
     ]
    },
    {
     "name": "stderr",
     "output_type": "stream",
     "text": [
      "INFO:root:\n",
      "T: 24000, logg: 4.0, [Fe/H]: 0.0, vsini: 225\n"
     ]
    },
    {
     "name": "stdout",
     "output_type": "stream",
     "text": [
      "\n",
      "\n"
     ]
    },
    {
     "name": "stderr",
     "output_type": "stream",
     "text": [
      "INFO:root:\n",
      "T: 24000, logg: 4.0, [Fe/H]: 0.0, vsini: 250\n"
     ]
    },
    {
     "name": "stdout",
     "output_type": "stream",
     "text": [
      "\n",
      "\n"
     ]
    },
    {
     "name": "stderr",
     "output_type": "stream",
     "text": [
      "INFO:root:\n",
      "T: 24000, logg: 4.0, [Fe/H]: 0.0, vsini: 275\n"
     ]
    },
    {
     "name": "stdout",
     "output_type": "stream",
     "text": [
      "\n",
      "\n"
     ]
    },
    {
     "name": "stderr",
     "output_type": "stream",
     "text": [
      "INFO:root:\n",
      "T: 24000, logg: 4.0, [Fe/H]: 0.0, vsini: 300\n"
     ]
    },
    {
     "name": "stdout",
     "output_type": "stream",
     "text": [
      "\n",
      "\n"
     ]
    },
    {
     "name": "stderr",
     "output_type": "stream",
     "text": [
      "INFO:root:\n",
      "T: 26000, logg: 4.0, [Fe/H]: 0.0, vsini: 50\n"
     ]
    },
    {
     "name": "stdout",
     "output_type": "stream",
     "text": [
      "\n",
      "\n"
     ]
    },
    {
     "name": "stderr",
     "output_type": "stream",
     "text": [
      "INFO:root:\n",
      "T: 26000, logg: 4.0, [Fe/H]: 0.0, vsini: 75\n"
     ]
    },
    {
     "name": "stdout",
     "output_type": "stream",
     "text": [
      "\n",
      "\n"
     ]
    },
    {
     "name": "stderr",
     "output_type": "stream",
     "text": [
      "INFO:root:\n",
      "T: 26000, logg: 4.0, [Fe/H]: 0.0, vsini: 100\n"
     ]
    },
    {
     "name": "stdout",
     "output_type": "stream",
     "text": [
      "\n",
      "\n"
     ]
    },
    {
     "name": "stderr",
     "output_type": "stream",
     "text": [
      "INFO:root:\n",
      "T: 26000, logg: 4.0, [Fe/H]: 0.0, vsini: 125\n"
     ]
    },
    {
     "name": "stdout",
     "output_type": "stream",
     "text": [
      "\n",
      "\n"
     ]
    },
    {
     "name": "stderr",
     "output_type": "stream",
     "text": [
      "INFO:root:\n",
      "T: 26000, logg: 4.0, [Fe/H]: 0.0, vsini: 150\n"
     ]
    },
    {
     "name": "stdout",
     "output_type": "stream",
     "text": [
      "\n",
      "\n"
     ]
    },
    {
     "name": "stderr",
     "output_type": "stream",
     "text": [
      "INFO:root:\n",
      "T: 26000, logg: 4.0, [Fe/H]: 0.0, vsini: 175\n"
     ]
    },
    {
     "name": "stdout",
     "output_type": "stream",
     "text": [
      "\n",
      "\n"
     ]
    },
    {
     "name": "stderr",
     "output_type": "stream",
     "text": [
      "INFO:root:\n",
      "T: 26000, logg: 4.0, [Fe/H]: 0.0, vsini: 200\n"
     ]
    },
    {
     "name": "stdout",
     "output_type": "stream",
     "text": [
      "\n",
      "\n"
     ]
    },
    {
     "name": "stderr",
     "output_type": "stream",
     "text": [
      "INFO:root:\n",
      "T: 26000, logg: 4.0, [Fe/H]: 0.0, vsini: 225\n"
     ]
    },
    {
     "name": "stdout",
     "output_type": "stream",
     "text": [
      "\n",
      "\n"
     ]
    },
    {
     "name": "stderr",
     "output_type": "stream",
     "text": [
      "INFO:root:\n",
      "T: 26000, logg: 4.0, [Fe/H]: 0.0, vsini: 250\n"
     ]
    },
    {
     "name": "stdout",
     "output_type": "stream",
     "text": [
      "\n",
      "\n"
     ]
    },
    {
     "name": "stderr",
     "output_type": "stream",
     "text": [
      "INFO:root:\n",
      "T: 26000, logg: 4.0, [Fe/H]: 0.0, vsini: 275\n"
     ]
    },
    {
     "name": "stdout",
     "output_type": "stream",
     "text": [
      "\n",
      "\n"
     ]
    },
    {
     "name": "stderr",
     "output_type": "stream",
     "text": [
      "INFO:root:\n",
      "T: 26000, logg: 4.0, [Fe/H]: 0.0, vsini: 300\n"
     ]
    },
    {
     "name": "stdout",
     "output_type": "stream",
     "text": [
      "\n",
      "\n"
     ]
    },
    {
     "name": "stderr",
     "output_type": "stream",
     "text": [
      "INFO:root:\n",
      "T: 28000, logg: 4.0, [Fe/H]: 0.0, vsini: 50\n"
     ]
    },
    {
     "name": "stdout",
     "output_type": "stream",
     "text": [
      "\n",
      "\n"
     ]
    },
    {
     "name": "stderr",
     "output_type": "stream",
     "text": [
      "INFO:root:\n",
      "T: 28000, logg: 4.0, [Fe/H]: 0.0, vsini: 75\n"
     ]
    },
    {
     "name": "stdout",
     "output_type": "stream",
     "text": [
      "\n",
      "\n"
     ]
    },
    {
     "name": "stderr",
     "output_type": "stream",
     "text": [
      "INFO:root:\n",
      "T: 28000, logg: 4.0, [Fe/H]: 0.0, vsini: 100\n"
     ]
    },
    {
     "name": "stdout",
     "output_type": "stream",
     "text": [
      "\n",
      "\n"
     ]
    },
    {
     "name": "stderr",
     "output_type": "stream",
     "text": [
      "INFO:root:\n",
      "T: 28000, logg: 4.0, [Fe/H]: 0.0, vsini: 125\n"
     ]
    },
    {
     "name": "stdout",
     "output_type": "stream",
     "text": [
      "\n",
      "\n"
     ]
    },
    {
     "name": "stderr",
     "output_type": "stream",
     "text": [
      "INFO:root:\n",
      "T: 28000, logg: 4.0, [Fe/H]: 0.0, vsini: 150\n"
     ]
    },
    {
     "name": "stdout",
     "output_type": "stream",
     "text": [
      "\n",
      "\n"
     ]
    },
    {
     "name": "stderr",
     "output_type": "stream",
     "text": [
      "INFO:root:\n",
      "T: 28000, logg: 4.0, [Fe/H]: 0.0, vsini: 175\n"
     ]
    },
    {
     "name": "stdout",
     "output_type": "stream",
     "text": [
      "\n",
      "\n"
     ]
    },
    {
     "name": "stderr",
     "output_type": "stream",
     "text": [
      "INFO:root:\n",
      "T: 28000, logg: 4.0, [Fe/H]: 0.0, vsini: 200\n"
     ]
    },
    {
     "name": "stdout",
     "output_type": "stream",
     "text": [
      "\n",
      "\n"
     ]
    },
    {
     "name": "stderr",
     "output_type": "stream",
     "text": [
      "INFO:root:\n",
      "T: 28000, logg: 4.0, [Fe/H]: 0.0, vsini: 225\n"
     ]
    },
    {
     "name": "stdout",
     "output_type": "stream",
     "text": [
      "\n",
      "\n"
     ]
    },
    {
     "name": "stderr",
     "output_type": "stream",
     "text": [
      "INFO:root:\n",
      "T: 28000, logg: 4.0, [Fe/H]: 0.0, vsini: 250\n"
     ]
    },
    {
     "name": "stdout",
     "output_type": "stream",
     "text": [
      "\n",
      "\n"
     ]
    },
    {
     "name": "stderr",
     "output_type": "stream",
     "text": [
      "INFO:root:\n",
      "T: 28000, logg: 4.0, [Fe/H]: 0.0, vsini: 275\n"
     ]
    },
    {
     "name": "stdout",
     "output_type": "stream",
     "text": [
      "\n",
      "\n"
     ]
    },
    {
     "name": "stderr",
     "output_type": "stream",
     "text": [
      "INFO:root:\n",
      "T: 28000, logg: 4.0, [Fe/H]: 0.0, vsini: 300\n"
     ]
    },
    {
     "name": "stdout",
     "output_type": "stream",
     "text": [
      "\n",
      "\n"
     ]
    },
    {
     "name": "stderr",
     "output_type": "stream",
     "text": [
      "INFO:root:\n",
      "T: 30000, logg: 4.0, [Fe/H]: 0.0, vsini: 50\n"
     ]
    },
    {
     "name": "stdout",
     "output_type": "stream",
     "text": [
      "\n",
      "\n"
     ]
    },
    {
     "name": "stderr",
     "output_type": "stream",
     "text": [
      "INFO:root:\n",
      "T: 30000, logg: 4.0, [Fe/H]: 0.0, vsini: 75\n"
     ]
    },
    {
     "name": "stdout",
     "output_type": "stream",
     "text": [
      "\n",
      "\n"
     ]
    },
    {
     "name": "stderr",
     "output_type": "stream",
     "text": [
      "INFO:root:\n",
      "T: 30000, logg: 4.0, [Fe/H]: 0.0, vsini: 100\n"
     ]
    },
    {
     "name": "stdout",
     "output_type": "stream",
     "text": [
      "\n",
      "\n"
     ]
    },
    {
     "name": "stderr",
     "output_type": "stream",
     "text": [
      "INFO:root:\n",
      "T: 30000, logg: 4.0, [Fe/H]: 0.0, vsini: 125\n"
     ]
    },
    {
     "name": "stdout",
     "output_type": "stream",
     "text": [
      "\n",
      "\n"
     ]
    },
    {
     "name": "stderr",
     "output_type": "stream",
     "text": [
      "INFO:root:\n",
      "T: 30000, logg: 4.0, [Fe/H]: 0.0, vsini: 150\n"
     ]
    },
    {
     "name": "stdout",
     "output_type": "stream",
     "text": [
      "\n",
      "\n"
     ]
    },
    {
     "name": "stderr",
     "output_type": "stream",
     "text": [
      "INFO:root:\n",
      "T: 30000, logg: 4.0, [Fe/H]: 0.0, vsini: 175\n"
     ]
    },
    {
     "name": "stdout",
     "output_type": "stream",
     "text": [
      "\n",
      "\n"
     ]
    },
    {
     "name": "stderr",
     "output_type": "stream",
     "text": [
      "INFO:root:\n",
      "T: 30000, logg: 4.0, [Fe/H]: 0.0, vsini: 200\n"
     ]
    },
    {
     "name": "stdout",
     "output_type": "stream",
     "text": [
      "\n",
      "\n"
     ]
    },
    {
     "name": "stderr",
     "output_type": "stream",
     "text": [
      "INFO:root:\n",
      "T: 30000, logg: 4.0, [Fe/H]: 0.0, vsini: 225\n"
     ]
    },
    {
     "name": "stdout",
     "output_type": "stream",
     "text": [
      "\n",
      "\n"
     ]
    },
    {
     "name": "stderr",
     "output_type": "stream",
     "text": [
      "INFO:root:\n",
      "T: 30000, logg: 4.0, [Fe/H]: 0.0, vsini: 250\n"
     ]
    },
    {
     "name": "stdout",
     "output_type": "stream",
     "text": [
      "\n",
      "\n"
     ]
    },
    {
     "name": "stderr",
     "output_type": "stream",
     "text": [
      "INFO:root:\n",
      "T: 30000, logg: 4.0, [Fe/H]: 0.0, vsini: 275\n"
     ]
    },
    {
     "name": "stdout",
     "output_type": "stream",
     "text": [
      "\n",
      "\n"
     ]
    },
    {
     "name": "stderr",
     "output_type": "stream",
     "text": [
      "INFO:root:\n",
      "T: 30000, logg: 4.0, [Fe/H]: 0.0, vsini: 300\n"
     ]
    },
    {
     "name": "stdout",
     "output_type": "stream",
     "text": [
      "\n",
      "\n",
      "\n"
     ]
    }
   ],
   "source": [
    "alpha = 0.0\n",
    "for temp in sorted(modeldict.keys()):\n",
    "    for gravity in sorted(modeldict[temp].keys()):\n",
    "        for metallicity in sorted(modeldict[temp][gravity].keys()):\n",
    "            for vsini in vsini_values:\n",
    "                logging.info('\\nT: {}, logg: {}, [Fe/H]: {}, vsini: {}'.format(temp, gravity, metallicity, vsini))\n",
    "                \n",
    "                # Broaden the model near the wavelengths I will use\n",
    "                model = modeldict[temp][gravity][metallicity][alpha][vsini]\n",
    "                left = np.searchsorted(model.x, low_wave-15)\n",
    "                right = np.searchsorted(model.x, high_wave+15)\n",
    "                model = Broaden.RotBroad(model[left:right], vsini * u.km.to(u.cm), linear=True)\n",
    "                if resolution is not None:\n",
    "                    model = FittingUtilities.ReduceResolutionFFT(model, resolution)\n",
    "\n",
    "                # Make an interpolator function\n",
    "                modelfcn = interp(model.x, model.y / model.cont)\n",
    "                \n",
    "                # Make model orders at 0 km/2\n",
    "                model_orders = GenericSearch.process_model(model.copy(), processed_orders, logspace=False)\n",
    "                \n",
    "                for rv in np.random.normal(loc=0, scale=rv_dispersion, size=N_trials):\n",
    "                    # Make orders.\n",
    "                    orders = [o.copy() for o in processed_orders]\n",
    "                    for i, order in enumerate(orders):\n",
    "                        order.y = modelfcn(order.x*(1-rv/c)) + np.random.normal(loc=0, scale=1.0/snr, size=order.size())\n",
    "                        order.cont = np.ones_like(order.x)\n",
    "                        orders[i] = order.copy()\n",
    "                    \n",
    "                    # cross-correlate\n",
    "                    corr = Correlate.Correlate(orders, model_orders, addmode=addmode)\n",
    "                    \n",
    "                    params = {'velocity': rv, 'teff': temp, 'vsini': vsini, 'group': hdf5_group,\n",
    "                              'logg': gravity, 'feh': metallicity, 'addmode': addmode}\n",
    "                    check_rv(corr, params, output_file, n_pixels=Npix)\n",
    "                "
   ]
  },
  {
   "cell_type": "code",
   "execution_count": 47,
   "metadata": {
    "collapsed": false,
    "scrolled": true
   },
   "outputs": [
    {
     "name": "stdout",
     "output_type": "stream",
     "text": [
      "/IGRINS/addmode-dc/T10000\n",
      "/IGRINS/addmode-dc/T12000\n",
      "/IGRINS/addmode-dc/T14000\n",
      "/IGRINS/addmode-dc/T16000\n",
      "/IGRINS/addmode-dc/T18000\n",
      "/IGRINS/addmode-dc/T20000\n",
      "/IGRINS/addmode-dc/T22000\n",
      "/IGRINS/addmode-dc/T24000\n",
      "/IGRINS/addmode-dc/T26000\n",
      "/IGRINS/addmode-dc/T28000\n",
      "/IGRINS/addmode-dc/T30000\n",
      "/IGRINS/addmode-dc/T7000\n",
      "/IGRINS/addmode-dc/T8000\n",
      "/IGRINS/addmode-dc/T9000\n",
      "/IGRINS/addmode-ml/T10000\n",
      "/IGRINS/addmode-ml/T12000\n",
      "/IGRINS/addmode-ml/T14000\n",
      "/IGRINS/addmode-ml/T16000\n",
      "/IGRINS/addmode-ml/T18000\n",
      "/IGRINS/addmode-ml/T20000\n",
      "/IGRINS/addmode-ml/T22000\n",
      "/IGRINS/addmode-ml/T24000\n",
      "/IGRINS/addmode-ml/T26000\n",
      "/IGRINS/addmode-ml/T28000\n",
      "/IGRINS/addmode-ml/T30000\n",
      "/IGRINS/addmode-ml/T7000\n",
      "/IGRINS/addmode-ml/T8000\n",
      "/IGRINS/addmode-ml/T9000\n",
      "/IGRINS/addmode-simple/T10000\n",
      "/IGRINS/addmode-simple/T12000\n",
      "/IGRINS/addmode-simple/T14000\n",
      "/IGRINS/addmode-simple/T16000\n",
      "/IGRINS/addmode-simple/T18000\n",
      "/IGRINS/addmode-simple/T20000\n",
      "/IGRINS/addmode-simple/T22000\n",
      "/IGRINS/addmode-simple/T24000\n",
      "/IGRINS/addmode-simple/T26000\n",
      "/IGRINS/addmode-simple/T28000\n",
      "/IGRINS/addmode-simple/T30000\n",
      "/IGRINS/addmode-simple/T7000\n",
      "/IGRINS/addmode-simple/T8000\n",
      "/IGRINS/addmode-simple/T9000\n"
     ]
    },
    {
     "data": {
      "text/html": [
       "<div>\n",
       "<table border=\"1\" class=\"dataframe\">\n",
       "  <thead>\n",
       "    <tr style=\"text-align: right;\">\n",
       "      <th></th>\n",
       "      <th>addmode</th>\n",
       "      <th>ccf</th>\n",
       "      <th>feh</th>\n",
       "      <th>formal_rv_err</th>\n",
       "      <th>logg</th>\n",
       "      <th>rv_err</th>\n",
       "      <th>teff</th>\n",
       "      <th>vsini</th>\n",
       "    </tr>\n",
       "  </thead>\n",
       "  <tbody>\n",
       "    <tr>\n",
       "      <th>0</th>\n",
       "      <td>dc</td>\n",
       "      <td>0.868330</td>\n",
       "      <td>0</td>\n",
       "      <td>1.010518</td>\n",
       "      <td>4</td>\n",
       "      <td>-1.154569</td>\n",
       "      <td>10000</td>\n",
       "      <td>100</td>\n",
       "    </tr>\n",
       "    <tr>\n",
       "      <th>1</th>\n",
       "      <td>dc</td>\n",
       "      <td>0.867952</td>\n",
       "      <td>0</td>\n",
       "      <td>1.018585</td>\n",
       "      <td>4</td>\n",
       "      <td>-4.682545</td>\n",
       "      <td>10000</td>\n",
       "      <td>100</td>\n",
       "    </tr>\n",
       "    <tr>\n",
       "      <th>2</th>\n",
       "      <td>dc</td>\n",
       "      <td>0.863125</td>\n",
       "      <td>0</td>\n",
       "      <td>1.118071</td>\n",
       "      <td>4</td>\n",
       "      <td>-0.744341</td>\n",
       "      <td>10000</td>\n",
       "      <td>100</td>\n",
       "    </tr>\n",
       "    <tr>\n",
       "      <th>3</th>\n",
       "      <td>dc</td>\n",
       "      <td>0.866247</td>\n",
       "      <td>0</td>\n",
       "      <td>1.064088</td>\n",
       "      <td>4</td>\n",
       "      <td>-1.508000</td>\n",
       "      <td>10000</td>\n",
       "      <td>100</td>\n",
       "    </tr>\n",
       "    <tr>\n",
       "      <th>4</th>\n",
       "      <td>dc</td>\n",
       "      <td>0.866849</td>\n",
       "      <td>0</td>\n",
       "      <td>1.179235</td>\n",
       "      <td>4</td>\n",
       "      <td>-3.641454</td>\n",
       "      <td>10000</td>\n",
       "      <td>100</td>\n",
       "    </tr>\n",
       "  </tbody>\n",
       "</table>\n",
       "</div>"
      ],
      "text/plain": [
       "  addmode       ccf  feh  formal_rv_err  logg    rv_err   teff  vsini\n",
       "0      dc  0.868330    0       1.010518     4 -1.154569  10000    100\n",
       "1      dc  0.867952    0       1.018585     4 -4.682545  10000    100\n",
       "2      dc  0.863125    0       1.118071     4 -0.744341  10000    100\n",
       "3      dc  0.866247    0       1.064088     4 -1.508000  10000    100\n",
       "4      dc  0.866849    0       1.179235     4 -3.641454  10000    100"
      ]
     },
     "execution_count": 47,
     "metadata": {},
     "output_type": "execute_result"
    }
   ],
   "source": [
    "dd = defaultdict(list)\n",
    "with h5py.File('RVError.h5', 'r') as f:\n",
    "    for addmode_str, am_grp in f[hdf5_group].iteritems():\n",
    "        for _, teff_grp in am_grp.iteritems():\n",
    "            print(teff_grp.name)\n",
    "            for _, logg_grp in teff_grp.iteritems():\n",
    "                for _, feh_grp in logg_grp.iteritems():\n",
    "                    for _, vsini_grp in feh_grp.iteritems():\n",
    "                        for _, dataset in vsini_grp.iteritems():\n",
    "                            dd['addmode'].append(dataset.attrs['addmode'])\n",
    "                            #dd['addmode'].append(addmode_str.split('-')[-1])\n",
    "                            dd['teff'].append(dataset.attrs['teff'])\n",
    "                            dd['logg'].append(dataset.attrs['logg'])\n",
    "                            dd['feh'].append(dataset.attrs['feh'])\n",
    "                            dd['vsini'].append(dataset.attrs['vsini'])\n",
    "                            dd['rv_err'].append(dataset.attrs['true_rv'] - dataset.attrs['vel_max'])\n",
    "                            dd['formal_rv_err'].append(dataset.attrs['vel_max_err'])\n",
    "                            dd['ccf'].append(dataset.attrs['ccf_max'])\n",
    "                            \n",
    "summary = pd.DataFrame(data=dd)\n",
    "summary.head()"
   ]
  },
  {
   "cell_type": "code",
   "execution_count": 48,
   "metadata": {
    "collapsed": false
   },
   "outputs": [],
   "source": [
    "funcs = [np.mean, np.std]\n",
    "error = summary.groupby(('teff', 'vsini', 'addmode'))['rv_err'].agg(dict(rms=lambda d: np.sqrt(np.sum(d**2)/(len(d)-1.0))))"
   ]
  },
  {
   "cell_type": "code",
   "execution_count": 51,
   "metadata": {
    "collapsed": false,
    "scrolled": false
   },
   "outputs": [
    {
     "name": "stderr",
     "output_type": "stream",
     "text": [
      "/home/kgullikson/anaconda3/envs/python2/lib/python2.7/site-packages/matplotlib/collections.py:590: FutureWarning: elementwise comparison failed; returning scalar instead, but in the future will perform elementwise comparison\n",
      "  if self._edgecolors == str('face'):\n"
     ]
    },
    {
     "data": {
      "text/plain": [
       "<seaborn.axisgrid.PairGrid at 0x7fcb88bd7350>"
      ]
     },
     "execution_count": 51,
     "metadata": {},
     "output_type": "execute_result"
    },
    {
     "data": {
      "image/png": "[encoded data removed]",
      "text/plain": [
       "<matplotlib.figure.Figure at 0x7fcb88bd7f10>"
      ]
     },
     "metadata": {},
     "output_type": "display_data"
    }
   ],
   "source": [
    "sns.pairplot(error.reset_index(), hue='addmode')"
   ]
  },
  {
   "cell_type": "code",
   "execution_count": 52,
   "metadata": {
    "collapsed": false
   },
   "outputs": [
    {
     "data": {
      "image/png": "[encoded data removed]",
      "text/plain": [
       "<matplotlib.figure.Figure at 0x7fcb87a1b390>"
      ]
     },
     "metadata": {},
     "output_type": "display_data"
    }
   ],
   "source": [
    "e = error.reset_index()\n",
    "g = sns.lmplot(x='vsini', y='rms', data=e.loc[e.addmode=='ml'], col='teff', col_wrap=3)"
   ]
  },
  {
   "cell_type": "code",
   "execution_count": 49,
   "metadata": {
    "collapsed": false
   },
   "outputs": [
    {
     "data": {
      "text/html": [
       "<div>\n",
       "<table border=\"1\" class=\"dataframe\">\n",
       "  <thead>\n",
       "    <tr style=\"text-align: right;\">\n",
       "      <th></th>\n",
       "      <th></th>\n",
       "      <th></th>\n",
       "      <th>rms</th>\n",
       "    </tr>\n",
       "    <tr>\n",
       "      <th>teff</th>\n",
       "      <th>vsini</th>\n",
       "      <th>addmode</th>\n",
       "      <th></th>\n",
       "    </tr>\n",
       "  </thead>\n",
       "  <tbody>\n",
       "    <tr>\n",
       "      <th rowspan=\"30\" valign=\"top\">7000</th>\n",
       "      <th rowspan=\"3\" valign=\"top\">50</th>\n",
       "      <th>dc</th>\n",
       "      <td>0.121513</td>\n",
       "    </tr>\n",
       "    <tr>\n",
       "      <th>ml</th>\n",
       "      <td>0.104815</td>\n",
       "    </tr>\n",
       "    <tr>\n",
       "      <th>simple</th>\n",
       "      <td>0.126204</td>\n",
       "    </tr>\n",
       "    <tr>\n",
       "      <th rowspan=\"3\" valign=\"top\">75</th>\n",
       "      <th>dc</th>\n",
       "      <td>0.184406</td>\n",
       "    </tr>\n",
       "    <tr>\n",
       "      <th>ml</th>\n",
       "      <td>0.152206</td>\n",
       "    </tr>\n",
       "    <tr>\n",
       "      <th>simple</th>\n",
       "      <td>0.197745</td>\n",
       "    </tr>\n",
       "    <tr>\n",
       "      <th rowspan=\"3\" valign=\"top\">100</th>\n",
       "      <th>dc</th>\n",
       "      <td>0.340767</td>\n",
       "    </tr>\n",
       "    <tr>\n",
       "      <th>ml</th>\n",
       "      <td>0.223793</td>\n",
       "    </tr>\n",
       "    <tr>\n",
       "      <th>simple</th>\n",
       "      <td>0.360421</td>\n",
       "    </tr>\n",
       "    <tr>\n",
       "      <th rowspan=\"3\" valign=\"top\">125</th>\n",
       "      <th>dc</th>\n",
       "      <td>0.452270</td>\n",
       "    </tr>\n",
       "    <tr>\n",
       "      <th>ml</th>\n",
       "      <td>0.210542</td>\n",
       "    </tr>\n",
       "    <tr>\n",
       "      <th>simple</th>\n",
       "      <td>0.472637</td>\n",
       "    </tr>\n",
       "    <tr>\n",
       "      <th rowspan=\"3\" valign=\"top\">150</th>\n",
       "      <th>dc</th>\n",
       "      <td>0.356814</td>\n",
       "    </tr>\n",
       "    <tr>\n",
       "      <th>ml</th>\n",
       "      <td>0.597935</td>\n",
       "    </tr>\n",
       "    <tr>\n",
       "      <th>simple</th>\n",
       "      <td>0.378434</td>\n",
       "    </tr>\n",
       "    <tr>\n",
       "      <th rowspan=\"3\" valign=\"top\">175</th>\n",
       "      <th>dc</th>\n",
       "      <td>0.499164</td>\n",
       "    </tr>\n",
       "    <tr>\n",
       "      <th>ml</th>\n",
       "      <td>0.973716</td>\n",
       "    </tr>\n",
       "    <tr>\n",
       "      <th>simple</th>\n",
       "      <td>0.503166</td>\n",
       "    </tr>\n",
       "    <tr>\n",
       "      <th rowspan=\"3\" valign=\"top\">200</th>\n",
       "      <th>dc</th>\n",
       "      <td>0.831288</td>\n",
       "    </tr>\n",
       "    <tr>\n",
       "      <th>ml</th>\n",
       "      <td>1.521395</td>\n",
       "    </tr>\n",
       "    <tr>\n",
       "      <th>simple</th>\n",
       "      <td>0.743323</td>\n",
       "    </tr>\n",
       "    <tr>\n",
       "      <th rowspan=\"3\" valign=\"top\">225</th>\n",
       "      <th>dc</th>\n",
       "      <td>1.692142</td>\n",
       "    </tr>\n",
       "    <tr>\n",
       "      <th>ml</th>\n",
       "      <td>1.676870</td>\n",
       "    </tr>\n",
       "    <tr>\n",
       "      <th>simple</th>\n",
       "      <td>1.854363</td>\n",
       "    </tr>\n",
       "    <tr>\n",
       "      <th rowspan=\"3\" valign=\"top\">250</th>\n",
       "      <th>dc</th>\n",
       "      <td>2.975570</td>\n",
       "    </tr>\n",
       "    <tr>\n",
       "      <th>ml</th>\n",
       "      <td>2.153140</td>\n",
       "    </tr>\n",
       "    <tr>\n",
       "      <th>simple</th>\n",
       "      <td>3.203188</td>\n",
       "    </tr>\n",
       "    <tr>\n",
       "      <th rowspan=\"3\" valign=\"top\">275</th>\n",
       "      <th>dc</th>\n",
       "      <td>3.276007</td>\n",
       "    </tr>\n",
       "    <tr>\n",
       "      <th>ml</th>\n",
       "      <td>1.994553</td>\n",
       "    </tr>\n",
       "    <tr>\n",
       "      <th>simple</th>\n",
       "      <td>3.226514</td>\n",
       "    </tr>\n",
       "    <tr>\n",
       "      <th>...</th>\n",
       "      <th>...</th>\n",
       "      <th>...</th>\n",
       "      <td>...</td>\n",
       "    </tr>\n",
       "    <tr>\n",
       "      <th rowspan=\"30\" valign=\"top\">30000</th>\n",
       "      <th rowspan=\"3\" valign=\"top\">75</th>\n",
       "      <th>dc</th>\n",
       "      <td>0.539554</td>\n",
       "    </tr>\n",
       "    <tr>\n",
       "      <th>ml</th>\n",
       "      <td>0.373369</td>\n",
       "    </tr>\n",
       "    <tr>\n",
       "      <th>simple</th>\n",
       "      <td>1.889085</td>\n",
       "    </tr>\n",
       "    <tr>\n",
       "      <th rowspan=\"3\" valign=\"top\">100</th>\n",
       "      <th>dc</th>\n",
       "      <td>0.624903</td>\n",
       "    </tr>\n",
       "    <tr>\n",
       "      <th>ml</th>\n",
       "      <td>0.501619</td>\n",
       "    </tr>\n",
       "    <tr>\n",
       "      <th>simple</th>\n",
       "      <td>1.783175</td>\n",
       "    </tr>\n",
       "    <tr>\n",
       "      <th rowspan=\"3\" valign=\"top\">125</th>\n",
       "      <th>dc</th>\n",
       "      <td>0.766394</td>\n",
       "    </tr>\n",
       "    <tr>\n",
       "      <th>ml</th>\n",
       "      <td>0.689176</td>\n",
       "    </tr>\n",
       "    <tr>\n",
       "      <th>simple</th>\n",
       "      <td>1.992179</td>\n",
       "    </tr>\n",
       "    <tr>\n",
       "      <th rowspan=\"3\" valign=\"top\">150</th>\n",
       "      <th>dc</th>\n",
       "      <td>0.883762</td>\n",
       "    </tr>\n",
       "    <tr>\n",
       "      <th>ml</th>\n",
       "      <td>0.610731</td>\n",
       "    </tr>\n",
       "    <tr>\n",
       "      <th>simple</th>\n",
       "      <td>2.121519</td>\n",
       "    </tr>\n",
       "    <tr>\n",
       "      <th rowspan=\"3\" valign=\"top\">175</th>\n",
       "      <th>dc</th>\n",
       "      <td>1.105004</td>\n",
       "    </tr>\n",
       "    <tr>\n",
       "      <th>ml</th>\n",
       "      <td>0.813569</td>\n",
       "    </tr>\n",
       "    <tr>\n",
       "      <th>simple</th>\n",
       "      <td>2.424121</td>\n",
       "    </tr>\n",
       "    <tr>\n",
       "      <th rowspan=\"3\" valign=\"top\">200</th>\n",
       "      <th>dc</th>\n",
       "      <td>1.092242</td>\n",
       "    </tr>\n",
       "    <tr>\n",
       "      <th>ml</th>\n",
       "      <td>0.905141</td>\n",
       "    </tr>\n",
       "    <tr>\n",
       "      <th>simple</th>\n",
       "      <td>2.523254</td>\n",
       "    </tr>\n",
       "    <tr>\n",
       "      <th rowspan=\"3\" valign=\"top\">225</th>\n",
       "      <th>dc</th>\n",
       "      <td>1.568658</td>\n",
       "    </tr>\n",
       "    <tr>\n",
       "      <th>ml</th>\n",
       "      <td>1.016695</td>\n",
       "    </tr>\n",
       "    <tr>\n",
       "      <th>simple</th>\n",
       "      <td>3.875622</td>\n",
       "    </tr>\n",
       "    <tr>\n",
       "      <th rowspan=\"3\" valign=\"top\">250</th>\n",
       "      <th>dc</th>\n",
       "      <td>1.408155</td>\n",
       "    </tr>\n",
       "    <tr>\n",
       "      <th>ml</th>\n",
       "      <td>1.181976</td>\n",
       "    </tr>\n",
       "    <tr>\n",
       "      <th>simple</th>\n",
       "      <td>2.937176</td>\n",
       "    </tr>\n",
       "    <tr>\n",
       "      <th rowspan=\"3\" valign=\"top\">275</th>\n",
       "      <th>dc</th>\n",
       "      <td>1.468633</td>\n",
       "    </tr>\n",
       "    <tr>\n",
       "      <th>ml</th>\n",
       "      <td>1.171460</td>\n",
       "    </tr>\n",
       "    <tr>\n",
       "      <th>simple</th>\n",
       "      <td>3.507985</td>\n",
       "    </tr>\n",
       "    <tr>\n",
       "      <th rowspan=\"3\" valign=\"top\">300</th>\n",
       "      <th>dc</th>\n",
       "      <td>1.495641</td>\n",
       "    </tr>\n",
       "    <tr>\n",
       "      <th>ml</th>\n",
       "      <td>1.362967</td>\n",
       "    </tr>\n",
       "    <tr>\n",
       "      <th>simple</th>\n",
       "      <td>3.113120</td>\n",
       "    </tr>\n",
       "  </tbody>\n",
       "</table>\n",
       "<p>462 rows × 1 columns</p>\n",
       "</div>"
      ],
      "text/plain": [
       "                          rms\n",
       "teff  vsini addmode          \n",
       "7000  50    dc       0.121513\n",
       "            ml       0.104815\n",
       "            simple   0.126204\n",
       "      75    dc       0.184406\n",
       "            ml       0.152206\n",
       "            simple   0.197745\n",
       "      100   dc       0.340767\n",
       "            ml       0.223793\n",
       "            simple   0.360421\n",
       "      125   dc       0.452270\n",
       "            ml       0.210542\n",
       "            simple   0.472637\n",
       "      150   dc       0.356814\n",
       "            ml       0.597935\n",
       "            simple   0.378434\n",
       "      175   dc       0.499164\n",
       "            ml       0.973716\n",
       "            simple   0.503166\n",
       "      200   dc       0.831288\n",
       "            ml       1.521395\n",
       "            simple   0.743323\n",
       "      225   dc       1.692142\n",
       "            ml       1.676870\n",
       "            simple   1.854363\n",
       "      250   dc       2.975570\n",
       "            ml       2.153140\n",
       "            simple   3.203188\n",
       "      275   dc       3.276007\n",
       "            ml       1.994553\n",
       "            simple   3.226514\n",
       "...                       ...\n",
       "30000 75    dc       0.539554\n",
       "            ml       0.373369\n",
       "            simple   1.889085\n",
       "      100   dc       0.624903\n",
       "            ml       0.501619\n",
       "            simple   1.783175\n",
       "      125   dc       0.766394\n",
       "            ml       0.689176\n",
       "            simple   1.992179\n",
       "      150   dc       0.883762\n",
       "            ml       0.610731\n",
       "            simple   2.121519\n",
       "      175   dc       1.105004\n",
       "            ml       0.813569\n",
       "            simple   2.424121\n",
       "      200   dc       1.092242\n",
       "            ml       0.905141\n",
       "            simple   2.523254\n",
       "      225   dc       1.568658\n",
       "            ml       1.016695\n",
       "            simple   3.875622\n",
       "      250   dc       1.408155\n",
       "            ml       1.181976\n",
       "            simple   2.937176\n",
       "      275   dc       1.468633\n",
       "            ml       1.171460\n",
       "            simple   3.507985\n",
       "      300   dc       1.495641\n",
       "            ml       1.362967\n",
       "            simple   3.113120\n",
       "\n",
       "[462 rows x 1 columns]"
      ]
     },
     "execution_count": 49,
     "metadata": {},
     "output_type": "execute_result"
    }
   ],
   "source": [
    "error"
   ]
  },
  {
   "cell_type": "code",
   "execution_count": 50,
   "metadata": {
    "collapsed": false
   },
   "outputs": [],
   "source": [
    "error.reset_index().to_csv(output_summary_file, index=False)"
   ]
  },
  {
   "cell_type": "code",
   "execution_count": 55,
   "metadata": {
    "collapsed": false
   },
   "outputs": [
    {
     "data": {
      "text/plain": [
       "<matplotlib.collections.PathCollection at 0x7fcb8566be90>"
      ]
     },
     "execution_count": 55,
     "metadata": {},
     "output_type": "execute_result"
    },
    {
     "data": {
      "image/png": "[encoded data removed]",
      "text/plain": [
       "<matplotlib.figure.Figure at 0x7fcb88bd7310>"
      ]
     },
     "metadata": {},
     "output_type": "display_data"
    }
   ],
   "source": [
    "subset = summary.loc[summary.addmode == 'ml']\n",
    "plt.scatter(subset.rv_err.values, subset.formal_rv_err.values, alpha=0.1)"
   ]
  },
  {
   "cell_type": "code",
   "execution_count": null,
   "metadata": {
    "collapsed": true
   },
   "outputs": [],
   "source": []
  }
 ],
 "metadata": {
  "kernelspec": {
   "display_name": "Python 2",
   "language": "python",
   "name": "python2"
  },
  "language_info": {
   "codemirror_mode": {
    "name": "ipython",
    "version": 2
   },
   "file_extension": ".py",
   "mimetype": "text/x-python",
   "name": "python",
   "nbconvert_exporter": "python",
   "pygments_lexer": "ipython2",
   "version": "2.7.10"
  }
 },
 "nbformat": 4,
 "nbformat_minor": 0
}
