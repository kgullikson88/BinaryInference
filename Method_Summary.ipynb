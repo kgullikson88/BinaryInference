{
 "cells": [
  {
   "cell_type": "code",
   "execution_count": null,
   "metadata": {
    "collapsed": true
   },
   "outputs": [],
   "source": [
    "import seaborn as sns\n",
    "import matplotlib.pyplot as plt\n",
    "import numpy as np\n",
    "sns.set_style('white')\n",
    "sns.set_style('ticks')\n",
    "sns.set_context('notebook', font_scale=1.5)\n",
    "%matplotlib inline"
   ]
  },
  {
   "cell_type": "markdown",
   "metadata": {},
   "source": [
    "# Binary Inference with my data\n",
    "\n",
    "The purpose of this notebook is to go over the method I propose to use to measure the power-law slope in the mass-ratio distribution from my data. The data I have for each star is:\n",
    "\n",
    "  1. Estimate of the primary star temperature. Most of this comes from [David & Hillenbrand (2015)](http://adsabs.harvard.edu/abs/2015ApJ...804..146D), which used Stromgren photometry to measure $T_{\\rm eff}$ and $\\log{g}$, and used Padova isochrones to give the primary stars a mass and age distribution. Some of my targets are not in my sample, for which I need to fall back on the literature spectral type of the star.\n",
    "  2. Estimate of the companion star temperature. This comes from the analysis in my previous paper, and usually comes with uncertainties of $\\sim 100-200$ K.\n",
    "  3. Radial velocity of the primary star and companion star at 1-4 epochs (hopefully). I am working on measuring this now. The difficulty with the primary star RVs is that a lot of the power is in the strong Balmer lines, which span 2-3 echelle orders. I have had some success flattening the spectra with the help of model spectra. I plan to pin the velocities to the telluric lines for all instruments, so hopefully they are at least consistent velocities if not absolute ones. The companion velocities are easier; they come straight out of the cross-correlation functions.\n",
    "  \n",
    "What I want to know is this: is the distribution of mass-ratios significantly different for the close companions that I am sensitive to than the wide companions that imaging surveys have found? I will be fitting the mass-ratio distribution to a power law with index $\\gamma$:\n",
    "\n",
    "$$ P(\\gamma) = (1-\\gamma) q^{-\\gamma} $$\n",
    "\n",
    "The difficulty is that my survey has a bunch of completeness effects and biases:\n",
    "\n",
    "## Completeness Effects\n",
    "\n",
    "  My survey uses high signal-to-noise ratio spectra to directly search for the companion spectral lines. This works quite well even when the lines are marginally buried within the noise, but is not magic. The overall sensitivity for a given star depends on the mass-ratio (actually the flux ratio, but they are 1:1), and the companion $v\\sin{i}$, and look like this:\n",
    "  \n",
    "<img src=\"Figures/Typical_Sensitivity.png\" >\n",
    "\n",
    "As I do in my previous paper, I can marginalize the $v\\sin{i}$ dependence away by assuming a suitable distribution of companion $v\\sin{i}$ values and get sensitivity curves that only depend on the mass-ratio and look like sigmoids. I will therefore plan to model each star with its own sensitivity curve, and parameterize the sensitivity as:\n",
    "\n",
    "$$Q(q) = \\frac{1}{1+e^{-\\alpha(q-\\beta)}}  $$\n",
    "\n",
    "$\\alpha$ and $\\beta$ are parameters that will depend on the system I am talking about. Here is some intuition for what they look like:"
   ]
  },
  {
   "cell_type": "code",
   "execution_count": 1,
   "metadata": {
    "collapsed": false
   },
   "outputs": [
    {
     "data": {
      "image/png": "[encoded data removed]",
      "text/plain": [
       "<matplotlib.figure.Figure at 0x7fae1f989d90>"
      ]
     },
     "metadata": {},
     "output_type": "display_data"
    }
   ],
   "source": [
    "def sigmoid(x, alpha, beta):\n",
    "    return 1.0 / (1.0 + np.exp(-alpha*(x-beta)))\n",
    "\n",
    "x = np.arange(0, 1, 0.01)\n",
    "for beta in [0.1, 0.5]:\n",
    "    for alpha in [25, 100]:\n",
    "        y = sigmoid(x, alpha, beta)\n",
    "        plt.plot(x, y, label=r'$\\alpha = {}, \\beta = {}$'.format(alpha, beta), lw=2)\n",
    "plt.xlabel('q')\n",
    "plt.ylabel('Q(q)')\n",
    "leg = plt.legend(loc=4, fancybox=True)"
   ]
  },
  {
   "cell_type": "markdown",
   "metadata": {},
   "source": [
    "I also lose sensitivity at very high mass-ratios, because the companions can be rapid rotators with relatively few lines and my primary star removal stuff just kills the companion as well. I will have to think about how to include that effect.\n",
    "\n",
    "## Malmquist Bias\n",
    "\n",
    "My survey is magnitude-limited, and is therefore malmquist-biased. The effect of Malmquist bias is to make large mass-ratios appear more likely since they both contribute flux. The mass-ratio ends up being biased as a result:\n",
    "\n",
    "<img src=\"Figures/Malmquist.png\">\n",
    "\n",
    "I will estimate this with a quick Monte Carlo simulation. the probability of being in my sample is essentially:\n",
    "\n",
    "\\\\[\n",
    "P(obs) =\n",
    "  \\begin{cases}\n",
    "    1 & \\text{if } V < 6 \\\\\n",
    "    0 & \\text{otherwise}\n",
    "  \\end{cases}\n",
    "\\\\]\n",
    "\n",
    "Now V, the apparent V-band magnitude of the target, is of course a function of the distance ($\\rho$) to the star and the absolute magnitude of the star:\n",
    "\n",
    "$$ V = M_V + 5\\log{\\rho} - 5 $$\n",
    "\n",
    "In the case of binary stars, the absolute magnitude is coming from the light of two stars with primary mass $M_1$ and companion mass $qM_1$:\n",
    "\n",
    "$$ M_{v, total}(q, M_1) = -2.5\\log{10^{-M_v(M_1)/2.5} + 10^{-M_v(qM_1)/2.5}} $$\n",
    "\n",
    "The function $M_v(M)$ is the absolute magnitude of a main-sequence star with mass M, and can be interpolated from stellar evolution models or observational tables such as [this one](http://www.pas.rochester.edu/~emamajek/EEM_dwarf_UBVIJHK_colors_Teff.txt). What we want is the probability that a given binary system has $V<6$, as a function of mass-ratio ($q$). \n",
    "\n",
    "I draw random primary star masses from the Salpeter IMF from $1.5 - 20 M_{\\odot}$:\n",
    "\n",
    "$$P(M)dM \\sim M^{-2.35}dM $$\n",
    "\n",
    "and distances assuming they uniformly fill a sphere of size 1 kpc. For each sample, I can calculate the apparent visual magnitude as a function of binary mass-ratio, and come up with a probability of some star being in my sample, given its mass-ratio ($P(obs | q)$).\n",
    "\n",
    "<img src='Figures/Malmquist_Pobs.png' >\n",
    "\n",
    "As you can see, the probability of being in my sample increases with mass-ratio. TODO: work out a better way to parameterize this than with simple polynomials! It should never have negative slope."
   ]
  },
  {
   "cell_type": "markdown",
   "metadata": {},
   "source": [
    "# Inference Technique\n",
    "\n",
    "I will be going off of Dan Foreman-Mackey's work on exoplanet inference to do my binary star population inference. The idea is:\n",
    "\n",
    "  - Fit orbits to each binary system. These will be grossly un-constrained, but that is fine. I used Nested Sampling (similar to MCMC) to get samples from the posterior distribution for\n",
    "  \n",
    "  $$p(\\omega_k|x_k, \\alpha) = \\frac{p(x_k|\\omega_kp(\\omega_k|\\alpha}{p(x_k|\\alpha)} $$\n",
    "  \n",
    "    - $x_k$ is the set of radial velocities for star k\n",
    "    - $\\omega_k$ is the set of orbital parameters for star k. $\\omega_k = (a, M_0, e, \\omega, K_1, q, \\Delta v)$\n",
    "    - $\\alpha$ is just notation for the priors you set on the orbital elements.\n",
    "  \n",
    "  - Use the orbit parameter posterior samples to estimate the MRD power law slope, accounting for uncertainties.\n",
    "\n",
    "Here is the key equation:\n",
    "\n",
    "$$p(\\{x_k\\} | \\theta) = p(\\{x_k\\} | \\alpha) \\exp\\left(- \\int Q_c(\\omega) \\Gamma_{\\theta}(\\omega) d\\omega \\right) \\prod_{k=1}^K \\frac{1}{N_k} \\sum_{n=1}^{N_k} \\frac{Q_c(\\omega_k^{(n)}) \\Gamma_{\\theta}(\\omega_k^{(n)})}{p(\\omega_k^{(n)} | \\alpha)} $$"
   ]
  },
  {
   "cell_type": "markdown",
   "metadata": {},
   "source": [
    "The various terms are:\n",
    "\n",
    "  - $p({x_k}|\\theta)$: This is the probability of observing the dataset (${x_k}$), given the parameters $\\theta = (\\gamma, \\mu, \\sigma, \\eta)$\n",
    "    - $\\gamma$ is the MRD power law slope\n",
    "    - $\\eta$ is the same thing for the eccentricity distribution\n",
    "    - $\\mu, \\sigma$ are the mean and standard deviation of the log-normal semi-major axis distribution.\n",
    "    - This is the **likelihood function for the data**\n",
    "  - $Q_c(\\omega)$: The completeness of the survey for orbital parameters $\\omega$. This is the mean of the completeness sigmoid curves for all sample stars times the malmquist bias adjustment factor.\n",
    "  - $\\Gamma_{\\theta}(\\omega) = \\Gamma(a, e, q | \\gamma, \\mu, \\sigma, \\eta) = \\Gamma(q|\\gamma) \\Gamma(a|\\mu, \\sigma) \\Gamma(e|\\eta) $: This is the *rate density* of binary companions with semimajor axis a, eccentricity e, and mass-ratio q, given the distribution parameters $\\theta$. In my model, $\\Gamma$ is separable with each component as:\n",
    "    - $\\Gamma(q|\\gamma) = (1-\\gamma)q^{-\\gamma} $\n",
    "    - $\\Gamma(a|\\mu, \\sigma) = \\frac{1}{a\\sqrt{2\\pi\\sigma^2}} e^{-0.5(\\ln{a} - \\mu)^2 / \\sigma^2} $\n",
    "    - $\\Gamma(e|\\eta) = (1-\\eta)e^{-\\eta} $\n",
    "\n",
    "The integral is over all possible parameter space $\\omega$, which seems daunting, but for my case at least it is separable. The eccentricity and semimajor axis integrals are just 1, but the mass-ratio integral is now:\n",
    "$$\n",
    "\\begin{align}\n",
    "\\int_0^1 Q_{\\rm tot}(q)\\Gamma(q)dq &= \\int_0^1 \\frac{1}{N} \\sum_{i=1}^N Q_i(q)\\Gamma(q)dq \\\\\n",
    " &= \\frac{1}{N} \\sum_{i=1}^N \\int_0^1 \\frac{(1-\\gamma)q^{-\\gamma}}{1+e^{-\\alpha_i(q-\\beta_i)}}\n",
    "\\end{align}\n",
    "$$\n",
    "\n",
    "I will implement the inner integral in C for speed, and then calculate the integral for every value of $\\alpha/\\beta$ in the sample and sum the results. Here is the relevant C code, listed in 'integration.c' within this repository:\n",
    "\n",
    "```C\n",
    "double q_integrand_logisticQ(int n, double args[n])\n",
    "{\n",
    "    //unpack arguments\n",
    "    double q = args[0];\n",
    "    double gamma = args[1];\n",
    "    double alpha = args[2];\n",
    "    double beta = args[3];\n",
    "\n",
    "    return (1-gamma)*pow(q, -gamma) / (1.0 + exp(-alpha*(q-beta)));\n",
    "}\n",
    "```\n",
    "\n",
    "I compile it into a shared library with\n",
    "\n",
    "```bash\n",
    "gcc -shared -o integrandlib.so -fPIC integration.c\n",
    "```"
   ]
  },
  {
   "cell_type": "markdown",
   "metadata": {},
   "source": [
    "# Simulation Results\n",
    "\n",
    "So that is the basic idea. Now I will run a series of simulations to check if it gets the right answer. Each test will increase the complexity some.\n",
    "\n",
    "## 1: Well-constrained orbits with no biases or censoring.\n",
    "This is just a sanity check to make sure the main equation above will give us the right answer. I will simulate 400 stars that all have a binary companions, using the following parameters:\n",
    "\n",
    "  - $\\gamma = 0.4$\n",
    "  - $\\mu = \\log{200} \\approx 5.3$\n",
    "  - $\\sigma = \\log{10} \\approx 2.3$\n",
    "  - $\\eta = 0.7$\n",
    "  \n",
    "I first generate the true orbital parameters for each system, and then sample the orbits by choosing 20 random epochs for an rv observation and 3 random epochs for an imaging observation. I allow for random errors on the measurements with amplitude\n",
    "\n",
    "  - $\\sigma_{v_1} = 0.1$ km/s\n",
    "  - $\\sigma_{v_2} = 0.2$ km/s\n",
    "  - $\\sigma_p = 10$ mas  (position uncertainty)\n",
    "  "
   ]
  },
  {
   "cell_type": "code",
   "execution_count": 9,
   "metadata": {
    "collapsed": false
   },
   "outputs": [
    {
     "data": {
      "text/plain": [
       "array([ 0.37929049,  5.4077147 ,  2.26678427,  0.68829558])"
      ]
     },
     "execution_count": 9,
     "metadata": {},
     "output_type": "execute_result"
    }
   ],
   "source": [
    "import h5py\n",
    "import Distributions\n",
    "with h5py.File('Simulation_Data_backup20150904.h5', 'r') as f:\n",
    "    samples = np.array([f['plain/ds{}'.format(i)].value for i in range(400)])\n",
    "\n",
    "# Set up the prior and completeness functions. I need to hack them somewhat for this simple case...\n",
    "#prior = Distributions.OrbitPrior(2, 5700, gamma=0.0, cache=True)\n",
    "#prior._cache = 1.0\n",
    "prior = lambda lnq, lna, lne: 0.0\n",
    "completeness = Distributions.CensoredCompleteness(alpha_vals=np.ones(samples.shape[0])*np.inf, \n",
    "                                                  beta_vals=np.ones(samples.shape[0])*-10)\n",
    "\n",
    "# Make a fitter instance and get the maximum likelihood values for the parameters\n",
    "fitter = Distributions.DistributionFitter(samples, prior_fcn=prior, completeness_fcn=completeness,\n",
    "                                          integral_fcn=completeness.integral)\n",
    "fitter.guess_fit_parameters()"
   ]
  },
  {
   "cell_type": "markdown",
   "metadata": {},
   "source": [
    "It gets pretty close to the right answer. Let's go ahead and fit it with MCMC to make sure that it gets the everything right within the limits"
   ]
  },
  {
   "cell_type": "code",
   "execution_count": null,
   "metadata": {
    "collapsed": false
   },
   "outputs": [],
   "source": [
    "par_ranges = [[0, 0.999], [1e-3, 10], [1e-3, 10], [0, 0.999] ]\n",
    "fitter.fit(backend='emcee', nwalkers=100, n_burn=1, n_prod=400, guess=False, \n",
    "           initial_pars=par_ranges)\n",
    "fitter.make_emcee_samples(200)\n",
    "fitter.triangle(truths=[0.4, np.log(200), np.log(10), 0.7])"
   ]
  },
  {
   "cell_type": "markdown",
   "metadata": {},
   "source": [
    "##2: Very un-constrained orbits\n",
    "\n",
    "Next up is seeing how well this method does when the orbits are much less constrained. I expect the overall uncertainty to be larger, but hopefully we still get overall the right answer. I will sample orbits just like above, except I will only have 2 rv epochs and *no* imaging observations. This is what I have for most of my stuff.\n",
    "\n",
    "Whereas before the orbit fits were pretty straightforward, I now need to put a lot more thought into what is going on, what priors I want to use, and how to get a decent fit. For poorly constrained orbits, the emcee code fails to adequately explore the parameter space and has trouble if there are multiple peaks in the posterior distributions. [MultiNest](https://github.com/JohannesBuchner/PyMultiNest) works much better and is almost as easy to use, so I use that. \n",
    "\n",
    "### Priors:\n",
    "\n",
    "The priors for everything except the mass-ratio are:\n",
    "\n",
    "  - a: log-uniform from $10^{-2} - 10^6$ AU\n",
    "  - M_0, \\omega: Both uniform from $0 - 360^{\\circ}$\n",
    "  - e: log-uniform from $10^{-20} - 0$\n",
    "  - $K_1$ (RV semi-amplitude of the primary star): log-uniform from $10^{-3} - 10^3$ km/s\n",
    "  - $\\Delta v$ (the system velocity): Uniform from $-20 - 20$ km/s. This is 0 for all simulated stars.\n",
    "  \n",
    "The mass-ratio prior is more complicated. If I just use a uniform prior, many of the binaries have an unconstrained mass-ratio because that is somewhat degenerate with the system velocity ($\\Delta v$). But I have more information: the companion temperatures! I use the companion temperature to estimate companion masses, and assume the primary mass is correct within $1 M_{\\odot}$, to estimate the mass-ratio prior. For these simulations I go about it pretty circularly, but I am pretty sure it is a justified procedure for my main sample. Here is some code with what I do:"
   ]
  },
  {
   "cell_type": "code",
   "execution_count": 12,
   "metadata": {
    "collapsed": false
   },
   "outputs": [
    {
     "data": {
      "image/png": "[encoded data removed]",
      "text/plain": [
       "<matplotlib.figure.Figure at 0x7fadfdbfea50>"
      ]
     },
     "metadata": {},
     "output_type": "display_data"
    }
   ],
   "source": [
    "import Mamajek_Table\n",
    "import scipy\n",
    "from scipy.stats import truncnorm\n",
    "MT = Mamajek_Table.MamajekTable()\n",
    "teff2mass = MT.get_interpolator('Teff', 'Msun')\n",
    "mass2teff = MT.get_interpolator('Msun', 'Teff')\n",
    "\n",
    "M1_mean = 2.1\n",
    "q_true = 0.2\n",
    "M1_std = 1.0\n",
    "\n",
    "# Sample the primary mass's uncertainty\n",
    "a, b = (1.5-M1_mean)/M1_std, np.inf\n",
    "M1_vals = truncnorm.rvs(a=a, b=b, loc=M1_mean, scale=M1_std, size=10000)\n",
    "\n",
    "# Sample the companion temperature uncertainty, and convert to mass\n",
    "T2_mean = mass2teff(M1_mean*q_true)\n",
    "T2_vals = np.random.normal(loc=T2_mean, scale=200, size=10000)\n",
    "M2_vals = teff2mass(T2_vals)\n",
    "\n",
    "# Compute mass-ratio samples\n",
    "q_vals = M2_vals/M1_vals\n",
    "\n",
    "# Use kernel density estimation to get the PDF\n",
    "kde = scipy.stats.gaussian_kde(q_vals)\n",
    "\n",
    "# Plot\n",
    "_ = plt.hist(q_vals, bins=30, normed=True, alpha=0.4)\n",
    "qplot = np.arange(*plt.xlim(), step=0.01)\n",
    "_ = plt.plot(qplot, kde(qplot), 'r-', lw=2)\n",
    "_ = plt.xlabel('q', fontsize=15)\n",
    "_ = plt.ylabel('P(q)', fontsize=15)"
   ]
  },
  {
   "cell_type": "markdown",
   "metadata": {},
   "source": [
    "So my mass-ratio prior, like my completeness, is different for each sample star. However, it turns orbit fit posteriors that look like this **PUT FIGURE OF CORNER PLOT WHERE q IS UNCONSTRAINED**"
   ]
  },
  {
   "cell_type": "code",
   "execution_count": null,
   "metadata": {
    "collapsed": true
   },
   "outputs": [],
   "source": []
  },
  {
   "cell_type": "markdown",
   "metadata": {},
   "source": [
    "into this **SHOW CORNER PLOT FOR THE SAME SYSTEM WHEN I USE A PRIOR ON q."
   ]
  },
  {
   "cell_type": "code",
   "execution_count": null,
   "metadata": {
    "collapsed": true
   },
   "outputs": [],
   "source": []
  }
 ],
 "metadata": {
  "kernelspec": {
   "display_name": "Python 2",
   "language": "python",
   "name": "python2"
  },
  "language_info": {
   "codemirror_mode": {
    "name": "ipython",
    "version": 2
   },
   "file_extension": ".py",
   "mimetype": "text/x-python",
   "name": "python",
   "nbconvert_exporter": "python",
   "pygments_lexer": "ipython2",
   "version": "2.7.10"
  }
 },
 "nbformat": 4,
 "nbformat_minor": 0
}
