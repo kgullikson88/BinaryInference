{
 "cells": [
  {
   "cell_type": "markdown",
   "metadata": {},
   "source": [
    "# Planning for the overall mass-ratio estimation code\n",
    "This notebook is for planning how to do forward modeling to measure the mass-ratio distribution. I need code to do the following:\n",
    "\n",
    "  - Model the data given certain parameters:\n",
    "    - Physical Parameters:\n",
    "      - Overall multiplicity rate\n",
    "      - mass-ratio distribution $$P(q) \\sim q^{\\Gamma}$$\n",
    "      - Seperation distribution - lognormal: $$P(a) = \\frac{1}{a\\sigma\\sqrt{2\\pi}}e^{(\\ln{a} - \\mu)^2 / 2\\sigma^2}$$\n",
    "      - eccentricity distribution - Power law $$P(e) \\sim e^{\\alpha}$$\n",
    "    - Observational Parameters\n",
    "      - Sample bias\n",
    "        - Malmquist\n",
    "        - Do I have any other sampling biases?\n",
    "      - Detection bias\n",
    "        - Each target has a detection rate as a function of companion temperature\n",
    "          - The rate estimate comes from 17 samples, so has an uncertainty coming from binomial statistics. Use HelperFunctions.BinomialErrors(n_detected, 17) \n",
    "          - The rate also depends on how well we know the primary temperature. Can that be parameterized in some way?\n",
    "        - separation cutoff: I cannot detect companions more than about 1\" from the primary. The exact cutoff is different for each star, but I can probably treat it as just an instrument-specific parameter\n",
    "      - False positives\n",
    "        - Astrophysical (i.e. background sources)\n",
    "        - Other (spurious CCF peaks, etc). This should depend on the number of observations. It also depends on the companion temperature (can that be parameterized?)\n",
    "        \n",
    "  - My detections have the following properties\n",
    "    - temperature estimate, with error bars\n",
    "      - This can turn into a mass estimate using spectral-type relationships, assuming the companion is MS. That makes adds further uncertainty because of the accuracy of the MS relationship, not to mention the question of whether the companions *are* MS!\n",
    "      - Going through the primary properties can then give the mass-ratio, with additional uncertainties coming from uncertainty in the primary star properties.\n",
    "    - $N_{obs}$ measurements of the velocity of both the primary and secondary stars\n",
    "      - The measurements should not be assumed to be in the same rest frame\n",
    "      - $N_{obs} >= 1$. If only one measurement, I can't directly measure the mass-ratio\n",
    "    - $N_{img}$ direct imaging measurements. These do a few things:\n",
    "      1. If I detect the companion, I get a $\\Delta m$ and projected separation measurement.\n",
    "      2. If I don't I get some form of an upper limit on the separation distribution. (STILL NEED TO FIGURE OUT HOW TO BEST MEASURE THAT! PROBABLY SIGNAL INJECTION/RECOVERY)\n",
    "      \n",
    "  - I need to determine the best physical parameters ($\\Gamma, \\mu, \\sigma, \\alpha$, multiplicity rate)\n",
    "    - Given the parameters, I should be able to randomly sample several instances of my experiment.\n",
    "      - Each should give me N detections, each with some set of properties\n",
    "    - How to calculate the fitness/likelihood of the given parameters? I need to know how similar my data are to the simulated data, but don't want to go through histograms or something that is binning-specific.\n",
    "    "
   ]
  },
  {
   "cell_type": "markdown",
   "metadata": {
    "collapsed": true
   },
   "source": [
    "# Take 2:\n",
    "  - Assume the same parameter distributions as above\n",
    "  - Follow the approach that Adam takes:\n",
    "    $$f(q,a|F, \\Gamma, \\mu, \\sigma) \\sim F \\cdot q^{\\Gamma} \\cdot \\frac{1}{a\\sigma\\sqrt{2\\pi}}e^{(\\ln{a} - \\mu)^2 / 2\\sigma^2}$$\n",
    "    $$P(\\Gamma, \\mu, \\sigma|data) = P(data|\\Gamma, \\mu, \\sigma)P(\\Gamma, \\mu, \\sigma)$$\n",
    "     - The likelihood function comes from:\n",
    "       1. Split the parameter space into a fine grid in q, a\n",
    "       2. For each grid point, find the number of binaries within the grid\n",
    "       3. For each grid point, find the total number of binaries I am sensitive to\n",
    "       4. Use poisson (or binomial) statistics to calculate P(number I detect | number of detectable)\n",
    "       5. The product of the grid probabilities is the likelihood function."
   ]
  },
  {
   "cell_type": "code",
   "execution_count": null,
   "metadata": {
    "collapsed": true
   },
   "outputs": [],
   "source": []
  }
 ],
 "metadata": {
  "kernelspec": {
   "display_name": "Python 2",
   "language": "python",
   "name": "python2"
  },
  "language_info": {
   "codemirror_mode": {
    "name": "ipython",
    "version": 2
   },
   "file_extension": ".py",
   "mimetype": "text/x-python",
   "name": "python",
   "nbconvert_exporter": "python",
   "pygments_lexer": "ipython2",
   "version": "2.7.10"
  }
 },
 "nbformat": 4,
 "nbformat_minor": 0
}
