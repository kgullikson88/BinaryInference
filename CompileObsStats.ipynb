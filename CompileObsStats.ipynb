{
 "cells": [
  {
   "cell_type": "markdown",
   "metadata": {},
   "source": [
    "# Compile Observation Statistics\n",
    "\n",
    "I want to compile a bunch of information about each observation for the eventual table in my paper. Things to compile:\n",
    "\n",
    "- Star\n",
    "- RA/DEC\n",
    "- UT date\n",
    "- Julian Date\n",
    "- Observation Time\n",
    "- S/N ratio"
   ]
  },
  {
   "cell_type": "code",
   "execution_count": null,
   "metadata": {
    "collapsed": true
   },
   "outputs": [],
   "source": [
    "import os\n",
    "from astropy.io import fits\n",
    "import HelperFunctions\n",
    "import glob\n",
    "import h5py\n",
    "import logging\n",
    "import numpy as np\n",
    "import pandas as pd\n",
    "from astropy.time import Time\n",
    "\n",
    "logger = logging.getLogger()\n",
    "logger.setLevel(logging.INFO)"
   ]
  },
  {
   "cell_type": "code",
   "execution_count": null,
   "metadata": {
    "collapsed": true
   },
   "outputs": [],
   "source": [
    "home = os.environ['HOME']\n",
    "basedir = os.path.join(home, 'School', 'Research')\n",
    "\n",
    "inst_dirs = dict(TS23=os.path.join(basedir, 'McDonaldData'),\n",
    "                 HRS=os.path.join(basedir, 'HET_data'),\n",
    "                 CHIRON=os.path.join(basedir, 'CHIRON_data'),\n",
    "                 IGRINS=os.path.join(basedir, 'IGRINS_data'))"
   ]
  },
  {
   "cell_type": "code",
   "execution_count": null,
   "metadata": {
    "collapsed": false,
    "scrolled": true
   },
   "outputs": [],
   "source": [
    "inst_file_lists = {}\n",
    "for inst in inst_dirs.keys():\n",
    "    file_list = []\n",
    "    logging.info('Instrument: {}'.format(inst))\n",
    "    # Get the CCF.hdf5 file, and loop through to get the original filename for every CCF\n",
    "    with h5py.File(os.path.join(inst_dirs[inst], 'Cross_correlations', 'CCF.hdf5'), 'r') as infile:\n",
    "        for star, star_grp in infile.iteritems():\n",
    "            logging.debug('Reading in datasets for star {}'.format(star))\n",
    "            for date, date_grp in star_grp.iteritems():\n",
    "                for ds_name, ds in date_grp.iteritems():\n",
    "                    fname = ds.attrs['fname']\n",
    "                    if fname not in file_list:\n",
    "                        file_list.append(fname)\n",
    "                    else:\n",
    "                        break\n",
    "    inst_file_lists[inst] = file_list"
   ]
  },
  {
   "cell_type": "code",
   "execution_count": null,
   "metadata": {
    "collapsed": true
   },
   "outputs": [],
   "source": [
    "def get_snr(fname, inst):\n",
    "    orders = HelperFunctions.ReadExtensionFits(fname)\n",
    "    wlen = 2200 if inst == 'IGRINS' else 675\n",
    "    ordernum = HelperFunctions.FindOrderNums(orders, [wlen])[0]\n",
    "    order = orders[ordernum]\n",
    "    if inst == 'IGRINS':\n",
    "        return np.median(np.std(order.y))\n",
    "    return np.median(order.y/order.err)"
   ]
  },
  {
   "cell_type": "code",
   "execution_count": null,
   "metadata": {
    "collapsed": true
   },
   "outputs": [],
   "source": [
    "starname = []\n",
    "ut = []\n",
    "jd = []\n",
    "exptime = []\n",
    "snr = []\n",
    "ra = []\n",
    "dec = []\n",
    "instrument = []\n",
    "bad_fnames = []\n",
    "for inst in inst_file_lists.keys():\n",
    "    for fname in inst_file_lists[inst]:\n",
    "        #print(inst, fname)\n",
    "        full_fname = os.path.join(inst_dirs[inst], fname)\n",
    "        header = fits.getheader(full_fname)\n",
    "        starname.append(header['OBJECT'])\n",
    "        ut.append(header['UT'])\n",
    "        jd.append(header['JD'])\n",
    "        try:\n",
    "            exptime.append(header['EXPTIME'])\n",
    "        except KeyError:\n",
    "            print('No Exptime keyword in file {}'.format(fname))\n",
    "            bad_fnames.append(full_fname)\n",
    "            continue\n",
    "        snr.append(get_snr(full_fname, inst))\n",
    "        ra.append(header['RA'])\n",
    "        dec.append(header['DEC'])\n",
    "        instrument.append(inst)\n",
    "\n",
    "stats = pd.DataFrame(data=dict(star=starname, instrument=instrument, ut=ut, jd=jd,\n",
    "                               exptime=exptime, snr=snr, ra=ra, dec=dec))"
   ]
  },
  {
   "cell_type": "code",
   "execution_count": null,
   "metadata": {
    "collapsed": true
   },
   "outputs": [],
   "source": [
    "from astropy.time import Time\n",
    "def get_ut_date(jd):\n",
    "    t = Time(jd, format='jd', scale='utc')\n",
    "    dt = t.datetime\n",
    "    return '{}-{:02d}-{:02d}'.format(dt.year, dt.month, dt.day)\n",
    "stats['date'] = stats.jd.map(get_ut_date)\n",
    "stats.head()"
   ]
  },
  {
   "cell_type": "code",
   "execution_count": null,
   "metadata": {
    "collapsed": true
   },
   "outputs": [],
   "source": [
    "col_order = ['star', 'ra', 'dec', 'date', 'ut', 'jd', 'instrument', 'exptime', 'snr']\n",
    "stats[col_order].to_csv('data/SampleObservations.csv', index=False)"
   ]
  }
 ],
 "metadata": {
  "kernelspec": {
   "display_name": "Python 2",
   "language": "python",
   "name": "python2"
  },
  "language_info": {
   "codemirror_mode": {
    "name": "ipython",
    "version": 2
   },
   "file_extension": ".py",
   "mimetype": "text/x-python",
   "name": "python",
   "nbconvert_exporter": "python",
   "pygments_lexer": "ipython2",
   "version": "2.7.10"
  }
 },
 "nbformat": 4,
 "nbformat_minor": 0
}
