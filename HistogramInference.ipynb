{
 "cells": [
  {
   "cell_type": "markdown",
   "metadata": {},
   "source": [
    "# Histogram\n",
    "\n",
    "I need to get DFM's code working to estimate the histogram, since at the moment it does not appear to be a power law."
   ]
  },
  {
   "cell_type": "code",
   "execution_count": 1,
   "metadata": {
    "collapsed": false
   },
   "outputs": [
    {
     "name": "stderr",
     "output_type": "stream",
     "text": [
      "/home/kgullikson/anaconda3/envs/python2/lib/python2.7/site-packages/matplotlib/__init__.py:872: UserWarning: axes.color_cycle is deprecated and replaced with axes.prop_cycle; please use the latter.\n",
      "  warnings.warn(self.msg_depr % (key, alt_key))\n"
     ]
    }
   ],
   "source": [
    "from __future__ import print_function, division\n",
    "\n",
    "import numpy as np\n",
    "from scipy import stats, integrate\n",
    "import matplotlib.pyplot as plt\n",
    "import seaborn as sns\n",
    "from george import kernels, GP\n",
    "import fitters\n",
    "sns.set_context('notebook', font_scale=1.5)\n",
    "sns.set_style('whitegrid')\n",
    "\n",
    "%matplotlib inline"
   ]
  },
  {
   "cell_type": "markdown",
   "metadata": {},
   "source": [
    "### Make sample of size 100. Each sample will have 10000 'MCMC' samples to estimate its uncertainty"
   ]
  },
  {
   "cell_type": "code",
   "execution_count": 44,
   "metadata": {
    "collapsed": false
   },
   "outputs": [],
   "source": [
    "# Generate the true distribution as a chi-squared, and then make all samples fall in [0,1]\n",
    "NP_SEED=20\n",
    "np.random.seed(NP_SEED)\n",
    "true_q = np.random.chisquare(df=9, size=100)\n",
    "true_q /= true_q.max()\n",
    "\n",
    "# Generate samples for each true q from a truncated normal distribution\n",
    "std = 0.05\n",
    "a = -true_q / std\n",
    "b = (1 - true_q) / std\n",
    "q = np.vstack([stats.truncnorm.rvs(a=ai, b=bi, loc=true_qi, scale=std, size=10000) for ai, bi, true_qi in zip(a, b, true_q)])\n",
    "#q = np.random.normal(loc=true_q, scale=0.1, size=(10000, true_q.size)).T\n",
    "#q = np.random.chisquare(df=true_q, size=(10000, true_q.size)).T"
   ]
  },
  {
   "cell_type": "code",
   "execution_count": 45,
   "metadata": {
    "collapsed": false
   },
   "outputs": [
    {
     "data": {
      "text/plain": [
       "(array([    6.,    70.,   418.,  1354.,  2705.,  2996.,  1754.,   578.,\n",
       "          108.,    11.]),\n",
       " array([ 0.48680335,  0.52567937,  0.56455538,  0.6034314 ,  0.64230741,\n",
       "         0.68118343,  0.72005944,  0.75893545,  0.79781147,  0.83668748,\n",
       "         0.8755635 ]),\n",
       " <a list of 10 Patch objects>)"
      ]
     },
     "execution_count": 45,
     "metadata": {},
     "output_type": "execute_result"
    },
    {
     "data": {
      "image/png": "[encoded data removed]",
      "text/plain": [
       "<matplotlib.figure.Figure at 0x7fac3e2c47d0>"
      ]
     },
     "metadata": {},
     "output_type": "display_data"
    }
   ],
   "source": [
    "plt.hist(q[10])"
   ]
  },
  {
   "cell_type": "markdown",
   "metadata": {},
   "source": [
    "### Make a class that will fit this to a smooth distribution (no censoring yet)"
   ]
  },
  {
   "cell_type": "code",
   "execution_count": 8,
   "metadata": {
    "collapsed": false
   },
   "outputs": [],
   "source": [
    "class HistFitter(fitters.Bayesian_LS):\n",
    "    def __init__(self, qvals, bin_edges):\n",
    "        self.qvals = qvals\n",
    "        self.bin_edges = bin_edges\n",
    "        self.bin_centers = (self.bin_edges[:-1] + self.bin_edges[1:])/2\n",
    "        self.bin_widths = np.diff(self.bin_edges)\n",
    "        self.Nbins = self.bin_widths.size\n",
    "        self.Nobs = self.qvals.shape[0]\n",
    "        \n",
    "        # Find which bin each q falls in\n",
    "        self.bin_idx = np.digitize(self.qvals, self.bin_edges) - 1\n",
    "        \n",
    "        # Determine the censoring function for each bin (used in the integral)\n",
    "        self.censor_integrals = np.array([integrate.quad(func=self.censoring_fcn,\n",
    "                                                         a=left, b=right)[0] for (left, right) in \n",
    "                                          zip(self.bin_edges[:-1], self.bin_edges[1:])])\n",
    "    \n",
    "    def lnlike(self, pars):\n",
    "        # Pull theta out of pars\n",
    "        theta = pars[:self.Nbins]\n",
    "        \n",
    "        # Normalize theta\n",
    "        #theta /= np.sum(theta * self.bin_widths)\n",
    "        \n",
    "        # Generate the inner summation\n",
    "        gamma = np.ones_like(self.bin_idx) * np.nan\n",
    "        good = (self.bin_idx < self.Nbins) & (self.bin_idx >= 0) # nans in q get put in nonexistent bins\n",
    "        gamma[good] = self.Nobs * theta[self.bin_idx[good]]\n",
    "        summation = np.nanmean(gamma, axis=1)\n",
    "        \n",
    "        # Calculate the integral\n",
    "        I = self._integral_fcn(theta)\n",
    "        \n",
    "        # Generate the log-likelihood\n",
    "        ll = -I + np.nansum(np.log(summation))\n",
    "        return ll\n",
    "    \n",
    "    def lnprior(self, pars):\n",
    "        # Pull theta out of pars\n",
    "        theta = pars[:self.Nbins]\n",
    "        \n",
    "        return 0.0\n",
    "    \n",
    "    def lnprob(self, pars):\n",
    "        lp = self.lnprior(pars)\n",
    "        return lp + self.lnlike(pars) if np.isfinite(lp) else -np.inf\n",
    "    \n",
    "    def _integral_fcn(self, theta):\n",
    "        return np.sum(theta * self.censor_integrals) * self.Nobs\n",
    "    \n",
    "    def censoring_fcn(self, q):\n",
    "        return 1.0\n",
    "        \n",
    "    def guess_fit(self):\n",
    "        from scipy.optimize import minimize\n",
    "        \n",
    "        def errfcn(pars):\n",
    "            ll = self.lnprob(pars)\n",
    "            #print(pars, ll)\n",
    "            return -ll\n",
    "\n",
    "        initial_guess = np.ones_like(self.bin_centers)\n",
    "        bounds = [[1e-3, None] for p in initial_guess]\n",
    "        out = minimize(errfcn, initial_guess, bounds=bounds)\n",
    "        return out.x\n",
    "        "
   ]
  },
  {
   "cell_type": "code",
   "execution_count": 39,
   "metadata": {
    "collapsed": false
   },
   "outputs": [],
   "source": [
    "bins = np.arange(0, 1.05, 0.1)\n",
    "hf = HistFitter(q, bin_edges=bins)"
   ]
  },
  {
   "cell_type": "code",
   "execution_count": 40,
   "metadata": {
    "collapsed": false
   },
   "outputs": [
    {
     "data": {
      "text/plain": [
       "377.10431262395764"
      ]
     },
     "execution_count": 40,
     "metadata": {},
     "output_type": "execute_result"
    }
   ],
   "source": [
    "theta, _ = np.histogram(true_q, bins=bins, normed=True)\n",
    "hf.lnlike(theta)"
   ]
  },
  {
   "cell_type": "code",
   "execution_count": 41,
   "metadata": {
    "collapsed": false
   },
   "outputs": [],
   "source": [
    "fit_pars = hf.guess_fit()"
   ]
  },
  {
   "cell_type": "code",
   "execution_count": 43,
   "metadata": {
    "collapsed": false
   },
   "outputs": [
    {
     "data": {
      "text/plain": [
       "<matplotlib.legend.Legend at 0x7fac4b772d50>"
      ]
     },
     "execution_count": 43,
     "metadata": {},
     "output_type": "execute_result"
    },
    {
     "data": {
      "image/png": "[encoded data removed]",
      "text/plain": [
       "<matplotlib.figure.Figure at 0x7fac4c1c8c50>"
      ]
     },
     "metadata": {},
     "output_type": "display_data"
    }
   ],
   "source": [
    "# Plot\n",
    "plt.bar(left=bins[:-1], width=hf.bin_widths, height=theta, label='Truths', fill=False, lw=2, edgecolor='blue')\n",
    "plt.bar(left=bins[:-1], width=hf.bin_widths, height=fit_pars, label='Fit', fill=False, lw=2, edgecolor='red')\n",
    "plt.ylim((0, 3.0))\n",
    "plt.legend(loc='best', fancybox=True)"
   ]
  },
  {
   "cell_type": "markdown",
   "metadata": {},
   "source": [
    "## That seems to work pretty well! Lets add some complexity by adding a censoring function"
   ]
  },
  {
   "cell_type": "code",
   "execution_count": 46,
   "metadata": {
    "collapsed": false
   },
   "outputs": [
    {
     "data": {
      "text/plain": [
       "(-0.05, 1.05)"
      ]
     },
     "execution_count": 46,
     "metadata": {},
     "output_type": "execute_result"
    },
    {
     "data": {
      "image/png": "[encoded data removed]",
      "text/plain": [
       "<matplotlib.figure.Figure at 0x7fac50545d90>"
      ]
     },
     "metadata": {},
     "output_type": "display_data"
    }
   ],
   "source": [
    "# I will make the censoring function be a sigmoid, but will only use the callable \n",
    "def sigmoid(q, alpha, beta):\n",
    "    return 1.0 / (1.0 + np.exp(-alpha * (q - beta)))\n",
    "\n",
    "alpha, beta = (40, 0.25)\n",
    "x = np.arange(0, 1, 0.01)\n",
    "Q = sigmoid(x, alpha, beta)\n",
    "plt.plot(x, Q)\n",
    "plt.ylim((-0.05, 1.05))"
   ]
  },
  {
   "cell_type": "code",
   "execution_count": 47,
   "metadata": {
    "collapsed": false
   },
   "outputs": [],
   "source": [
    "# Censor out some of the q, replacing all with nans\n",
    "R = np.random.uniform(size=true_q.size)\n",
    "undetected = R > sigmoid(true_q, alpha, beta)\n",
    "censored_q = q.copy()\n",
    "censored_q[undetected, :] = np.nan"
   ]
  },
  {
   "cell_type": "code",
   "execution_count": 48,
   "metadata": {
    "collapsed": false
   },
   "outputs": [
    {
     "data": {
      "text/plain": [
       "(array([  0.,   4.,   5.,  12.,  14.,  18.,  15.,   8.,   4.,   3.]),\n",
       " array([ 0. ,  0.1,  0.2,  0.3,  0.4,  0.5,  0.6,  0.7,  0.8,  0.9,  1. ]),\n",
       " <a list of 10 Patch objects>)"
      ]
     },
     "execution_count": 48,
     "metadata": {},
     "output_type": "execute_result"
    },
    {
     "data": {
      "image/png": "[encoded data removed]",
      "text/plain": [
       "<matplotlib.figure.Figure at 0x7fac3d965150>"
      ]
     },
     "metadata": {},
     "output_type": "display_data"
    }
   ],
   "source": [
    "plt.hist(true_q[~undetected], bins=bins)"
   ]
  },
  {
   "cell_type": "code",
   "execution_count": 49,
   "metadata": {
    "collapsed": true
   },
   "outputs": [],
   "source": [
    "class CensoredHistFitter(HistFitter):\n",
    "    def censoring_fcn(self, q):\n",
    "        return sigmoid(q, alpha, beta)\n",
    "        #return 1.0"
   ]
  },
  {
   "cell_type": "code",
   "execution_count": 50,
   "metadata": {
    "collapsed": false,
    "scrolled": true
   },
   "outputs": [],
   "source": [
    "chf = CensoredHistFitter(censored_q, bins)\n",
    "fit_pars = chf.guess_fit()"
   ]
  },
  {
   "cell_type": "code",
   "execution_count": 52,
   "metadata": {
    "collapsed": false
   },
   "outputs": [
    {
     "data": {
      "text/plain": [
       "<matplotlib.legend.Legend at 0x7fac3dbb8d10>"
      ]
     },
     "execution_count": 52,
     "metadata": {},
     "output_type": "execute_result"
    },
    {
     "data": {
      "image/png": "[encoded data removed]",
      "text/plain": [
       "<matplotlib.figure.Figure at 0x7fac531fec90>"
      ]
     },
     "metadata": {},
     "output_type": "display_data"
    }
   ],
   "source": [
    "# Plot\n",
    "plt.bar(left=bins[:-1], width=chf.bin_widths, height=theta, label='Truths', fill=False, lw=2, edgecolor='blue')\n",
    "plt.bar(left=bins[:-1], width=chf.bin_widths, height=fit_pars, label='Fit', fill=False, lw=2, edgecolor='red')\n",
    "plt.ylim((0, 3.0))\n",
    "plt.legend(loc='best', fancybox=True)"
   ]
  },
  {
   "cell_type": "markdown",
   "metadata": {},
   "source": [
    "### Cool! That mostly gives a reasonable answer too.\n",
    "\n",
    "Now, I need to add a prior in the form of a gaussian process that forces the histogram to be 'smooth'"
   ]
  },
  {
   "cell_type": "code",
   "execution_count": 53,
   "metadata": {
    "collapsed": true
   },
   "outputs": [],
   "source": [
    "class SmoothHistFitter(CensoredHistFitter):\n",
    "    def lnprior(self, pars):\n",
    "        theta = pars[:self.Nbins]\n",
    "        if np.any(theta < 0):\n",
    "            return -np.inf\n",
    "        a, tau, err = np.exp(pars[self.Nbins:-1])\n",
    "        mean = pars[-1]\n",
    "        kernel = a * kernels.ExpSquaredKernel(tau)\n",
    "        gp = GP(kernel, mean=mean)\n",
    "        gp.compute(self.bin_centers, yerr=err)\n",
    "        return gp.lnlikelihood(theta)\n",
    "    \n",
    "    def guess_fit(self):\n",
    "        from scipy.optimize import minimize\n",
    "        \n",
    "        def errfcn(pars):\n",
    "            ll = self.lnprob(pars)\n",
    "            #print(pars, ll)\n",
    "            return -ll\n",
    "\n",
    "        initial_guess = np.ones(self.bin_centers.size + 4)\n",
    "        initial_guess[-4] = -3.0\n",
    "        initial_guess[-3] = -0.25\n",
    "        initial_guess[-2] = -1.0\n",
    "        initial_guess[-1] = -1.0\n",
    "        bounds = [[1e-3, None] for p in self.bin_centers]\n",
    "        bounds.append([-20, 0])\n",
    "        bounds.append([-10, 10])\n",
    "        bounds.append((-1, 5))\n",
    "        bounds.append((-10, 10))\n",
    "        print(initial_guess)\n",
    "        out = minimize(errfcn, initial_guess, bounds=bounds)\n",
    "        return out.x\n",
    "    \n",
    "    def _lnlike(self, pars):\n",
    "        return self.lnprob(pars)\n",
    "    \n",
    "    def mnest_prior(self, cube, ndim, nparams):\n",
    "        for i in range(self.Nbins):\n",
    "            cube[i] *= 5\n",
    "        #cube[:self.Nbins] *= 15\n",
    "        cube[self.Nbins] = cube[self.Nbins] * 20 - 20\n",
    "        cube[self.Nbins+1] = cube[self.Nbins+1] * 20 - 10\n",
    "        cube[self.Nbins+2] = cube[self.Nbins+2] * 7 - 2\n",
    "        cube[self.Nbins+3] = cube[self.Nbins+3] * 20 - 10\n",
    "        return\n",
    "        \n",
    "        "
   ]
  },
  {
   "cell_type": "code",
   "execution_count": 54,
   "metadata": {
    "collapsed": false
   },
   "outputs": [],
   "source": [
    "shf = SmoothHistFitter(censored_q, bins)\n",
    "#shf.lnprob(fit_pars)"
   ]
  },
  {
   "cell_type": "code",
   "execution_count": 55,
   "metadata": {
    "collapsed": false
   },
   "outputs": [
    {
     "name": "stdout",
     "output_type": "stream",
     "text": [
      "[ 1.    1.    1.    1.    1.    1.    1.    1.    1.    1.   -3.   -0.25\n",
      " -1.   -1.  ]\n"
     ]
    }
   ],
   "source": [
    "fit_pars = shf.guess_fit()"
   ]
  },
  {
   "cell_type": "code",
   "execution_count": 56,
   "metadata": {
    "collapsed": false
   },
   "outputs": [
    {
     "name": "stdout",
     "output_type": "stream",
     "text": [
      "[ 1.32166028  1.5833721   1.39693359  1.21012614  1.40584305  1.55093253\n",
      "  1.2412631   0.88649444  0.44234046  0.32971629 -2.0544147  -2.88321824\n",
      " -1.          1.07046876]\n"
     ]
    }
   ],
   "source": [
    "print(fit_pars)"
   ]
  },
  {
   "cell_type": "code",
   "execution_count": 57,
   "metadata": {
    "collapsed": false
   },
   "outputs": [
    {
     "data": {
      "text/plain": [
       "<matplotlib.legend.Legend at 0x7fac3e44b190>"
      ]
     },
     "execution_count": 57,
     "metadata": {},
     "output_type": "execute_result"
    },
    {
     "data": {
      "image/png": "[encoded data removed]",
      "text/plain": [
       "<matplotlib.figure.Figure at 0x7fac3dc530d0>"
      ]
     },
     "metadata": {},
     "output_type": "display_data"
    }
   ],
   "source": [
    "plt.bar(left=bins[:-1], width=shf.bin_widths, height=theta, label='Truths', fill=False, lw=2, edgecolor='blue')\n",
    "plt.bar(left=bins[:-1], width=shf.bin_widths, height=fit_pars[:-4], label='Fit', fill=False, lw=2, edgecolor='red')\n",
    "plt.ylim((0, 4.0))\n",
    "plt.legend(loc='best', fancybox=True)"
   ]
  },
  {
   "cell_type": "code",
   "execution_count": null,
   "metadata": {
    "collapsed": false
   },
   "outputs": [],
   "source": [
    "shf.n_params = shf.Nbins + 4\n",
    "shf.param_names = [r'$\\theta_{}$'.format(i) for i in range(shf.Nbins)]\n",
    "shf.param_names.extend(('lna', 'lntau', 'lnerr', 'mean'))\n",
    "shf.fit_multinest(basename='HistFitterTest/simulation{}'.format(NP_SEED), overwrite=False)"
   ]
  },
  {
   "cell_type": "code",
   "execution_count": null,
   "metadata": {
    "collapsed": false
   },
   "outputs": [],
   "source": [
    "shf.triangle(hist_kwargs=dict(lw=2))"
   ]
  },
  {
   "cell_type": "code",
   "execution_count": null,
   "metadata": {
    "collapsed": false
   },
   "outputs": [],
   "source": [
    "shf.samples.describe()"
   ]
  },
  {
   "cell_type": "code",
   "execution_count": null,
   "metadata": {
    "collapsed": false
   },
   "outputs": [],
   "source": [
    "height_mean = np.array([shf.samples[col].mean() for col in shf.param_names[:shf.Nbins]])\n",
    "height_std = np.array([shf.samples[col].std() for col in shf.param_names[:shf.Nbins]])\n",
    "l, m, h = np.array([np.percentile(shf.samples[col], [16, 50, 84]) for col in shf.param_names[:shf.Nbins]]).T\n",
    "plt.bar(left=bins[:-1], width=shf.bin_widths, height=theta, label='Truths', fill=False, lw=2, edgecolor='blue')\n",
    "plt.bar(left=bins[:-1], width=shf.bin_widths, height=m, yerr=(m-l, h-m), label='Fit', fill=False, lw=2, edgecolor='red')\n",
    "plt.ylim((0, 4.0))\n",
    "plt.legend(loc='best', fancybox=True)"
   ]
  },
  {
   "cell_type": "code",
   "execution_count": 35,
   "metadata": {
    "collapsed": false
   },
   "outputs": [
    {
     "name": "stdout",
     "output_type": "stream",
     "text": [
      "[ 0.38259558  0.79900356  1.34131517  1.711171    1.4483948   0.84794084\n",
      "  0.45383845  0.16948505  0.08765242  0.17846362]\n",
      "[ 0.26090428  0.50377782  0.79242045  0.947444    0.82825019  0.51646315\n",
      "  0.25145652  0.11338463  0.061153    0.10729933]\n",
      "[ 0.53337932  0.73287828  1.10237049  1.43878044  1.17705034  0.73039294\n",
      "  0.39365756  0.2178711   0.15550175  0.22557557]\n"
     ]
    }
   ],
   "source": [
    "l, m, h = np.array([np.percentile(shf.samples[col], [16, 50, 84]) for col in shf.param_names[:shf.Nbins]]).T\n",
    "print(m)\n",
    "print(m-l)\n",
    "print(h-m)"
   ]
  },
  {
   "cell_type": "code",
   "execution_count": null,
   "metadata": {
    "collapsed": true
   },
   "outputs": [],
   "source": []
  },
  {
   "cell_type": "code",
   "execution_count": null,
   "metadata": {
    "collapsed": true
   },
   "outputs": [],
   "source": []
  },
  {
   "cell_type": "code",
   "execution_count": null,
   "metadata": {
    "collapsed": false
   },
   "outputs": [],
   "source": [
    "import emcee\n",
    "\n",
    "nwalkers = 100\n",
    "ndim = fit_pars.size\n",
    "\n",
    "p0 = emcee.utils.sample_ball(fit_pars, std=0.1*np.ones_like(fit_pars), size=nwalkers)\n",
    "\n",
    "fitter = emcee.EnsembleSampler(nwalkers, ndim, shf.lnprob)"
   ]
  },
  {
   "cell_type": "code",
   "execution_count": null,
   "metadata": {
    "collapsed": false
   },
   "outputs": [],
   "source": [
    "output = fitter.run_mcmc(p0, 1000)"
   ]
  },
  {
   "cell_type": "code",
   "execution_count": null,
   "metadata": {
    "collapsed": true
   },
   "outputs": [],
   "source": []
  },
  {
   "cell_type": "code",
   "execution_count": null,
   "metadata": {
    "collapsed": true
   },
   "outputs": [],
   "source": []
  },
  {
   "cell_type": "code",
   "execution_count": null,
   "metadata": {
    "collapsed": true
   },
   "outputs": [],
   "source": []
  },
  {
   "cell_type": "code",
   "execution_count": null,
   "metadata": {
    "collapsed": false
   },
   "outputs": [],
   "source": [
    "#shf.lnprior(fit_pars), shf.lnlike(fit_pars), shf.lnprob(fit_pars)\n",
    "print(shf.lnprob(fit_pars))\n",
    "p = fit_pars.copy()\n",
    "p[-2] = 5\n",
    "print(shf.lnprob(p))"
   ]
  },
  {
   "cell_type": "code",
   "execution_count": null,
   "metadata": {
    "collapsed": false
   },
   "outputs": [],
   "source": [
    "sigma = 0.1\n",
    "bini, binj = np.meshgrid(shf.bin_centers, shf.bin_centers)\n",
    "cov = 1.0 * np.exp(-0.5*(bini-binj).T * sigma**(-2) * (bini-binj))\n",
    "cov += np.eye(shf.bin_centers.size) * 1e-3\n",
    "stats.multivariate_normal.pdf(shf.bin_centers, cov=cov, mean=np.zeros_like(shf.bin_centers))"
   ]
  },
  {
   "cell_type": "code",
   "execution_count": null,
   "metadata": {
    "collapsed": false
   },
   "outputs": [],
   "source": [
    "np.linalg.det(cov)"
   ]
  },
  {
   "cell_type": "code",
   "execution_count": null,
   "metadata": {
    "collapsed": false
   },
   "outputs": [],
   "source": [
    "np.eye(10)"
   ]
  },
  {
   "cell_type": "code",
   "execution_count": null,
   "metadata": {
    "collapsed": true
   },
   "outputs": [],
   "source": [
    "minimize?"
   ]
  },
  {
   "cell_type": "code",
   "execution_count": null,
   "metadata": {
    "collapsed": true
   },
   "outputs": [],
   "source": []
  }
 ],
 "metadata": {
  "kernelspec": {
   "display_name": "Python 2",
   "language": "python",
   "name": "python2"
  },
  "language_info": {
   "codemirror_mode": {
    "name": "ipython",
    "version": 2
   },
   "file_extension": ".py",
   "mimetype": "text/x-python",
   "name": "python",
   "nbconvert_exporter": "python",
   "pygments_lexer": "ipython2",
   "version": "2.7.11"
  }
 },
 "nbformat": 4,
 "nbformat_minor": 0
}
