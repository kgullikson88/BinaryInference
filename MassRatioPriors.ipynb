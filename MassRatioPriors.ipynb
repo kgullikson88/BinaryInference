{
 "cells": [
  {
   "cell_type": "markdown",
   "metadata": {},
   "source": [
    "# Making the mass-ratio priors\n",
    "In this notebook, I will use the compiled companion and primary star data to estimate the mass-ratio prior for each of my detections.\n",
    "\n",
    "The process will be:\n",
    "\n",
    "1. Get the primary star mass\n",
    "  - If it is in the David & Hillenbrand sample, use their mass\n",
    "  - Otherwise, use the spectral type\n",
    "  - Use Teff/logg from my ccfs and evolutionary tracks to get mass?\n",
    "2. Get the companion mass. Use the corrected temperature and convert to mass\n",
    "  - Use the Dartmouth evolutionary tracks to get a model grid mass\n",
    "    - Use the David & Hillenbrand age, if available\n",
    "    - Use the main-sequence age otherwise\n",
    "  - Interpolate spectral type relationships"
   ]
  },
  {
   "cell_type": "code",
   "execution_count": 1,
   "metadata": {
    "collapsed": false
   },
   "outputs": [],
   "source": [
    "import pandas as pd\n",
    "import matplotlib.pyplot as plt\n",
    "import numpy as np\n",
    "import h5py\n",
    "\n",
    "import logging\n",
    "import Priors\n",
    "\n",
    "logger = logging.getLogger()\n",
    "logger.setLevel(logging.INFO)\n",
    "#logging.basicConfig(level=logging.DEBUG,\n",
    "#                   filename='run.log',\n",
    "#                    filemode='w')\n",
    "\n",
    "%matplotlib inline"
   ]
  },
  {
   "cell_type": "code",
   "execution_count": 2,
   "metadata": {
    "collapsed": false
   },
   "outputs": [],
   "source": [
    "# Read in the companion temperature data\n",
    "summary = pd.read_csv('Corrected_Companion_Data.csv', sep='|').drop_duplicates(subset=['Star'])"
   ]
  },
  {
   "cell_type": "markdown",
   "metadata": {},
   "source": [
    "# Primary star mass estimates"
   ]
  },
  {
   "cell_type": "code",
   "execution_count": 3,
   "metadata": {
    "collapsed": false
   },
   "outputs": [
    {
     "data": {
      "text/plain": [
       "(2.2239139638577075, 4.960127501706344)"
      ]
     },
     "execution_count": 3,
     "metadata": {},
     "output_type": "execute_result"
    },
    {
     "data": {
      "image/png": "[encoded data removed]",
      "text/plain": [
       "<matplotlib.figure.Figure at 0x7fd78c25ff50>"
      ]
     },
     "metadata": {},
     "output_type": "display_data"
    }
   ],
   "source": [
    "hipnum = '16611'\n",
    "mass, prob = Priors.read_dh2015_posterior(hipnum=str(hipnum))\n",
    "plt.plot(mass, prob, 'r-', lw=3)\n",
    "mass_samples = Priors.get_primary_mass('HIP {}'.format(hipnum), spt='B2', size=1e4)\n",
    "_ = plt.hist(mass_samples, bins=30, normed=True)\n",
    "plt.xlim((mass_samples.min()-0.5, mass_samples.max()+0.5))"
   ]
  },
  {
   "cell_type": "markdown",
   "metadata": {},
   "source": [
    "# Secondary Star Mass Estimates"
   ]
  },
  {
   "cell_type": "code",
   "execution_count": 4,
   "metadata": {
    "collapsed": false
   },
   "outputs": [
    {
     "name": "stderr",
     "output_type": "stream",
     "text": [
      "/home/kgullikson/anaconda3/envs/python2/lib/python2.7/site-packages/IPython/kernel/__main__.py:3: DeprecationWarning: using a non-integer number instead of an integer will result in an error in the future\n",
      "  app.launch_new_instance()\n"
     ]
    },
    {
     "data": {
      "image/png": "[encoded data removed]",
      "text/plain": [
       "<matplotlib.figure.Figure at 0x7fd78c1fd250>"
      ]
     },
     "metadata": {},
     "output_type": "display_data"
    }
   ],
   "source": [
    "# Get mass samples from both the dartmouth and spectral type interpolator\n",
    "dar = Priors.Feiden_Isochrone()\n",
    "teff_samples = np.random.normal(loc=4000, scale=150, size=1e3)\n",
    "iso_int = Priors.IsochroneInterpolator()\n",
    "spt_int = Priors.SpectralTypeInterpolator()\n",
    "dar_mass_samples = iso_int(teff_samples, 8.5)\n",
    "spt_mass_samples = spt_int(teff_samples)\n",
    "\n",
    "# Plot\n",
    "plt.hist(dar_mass_samples, bins=30, alpha=0.5, label='Dartmouth')\n",
    "plt.hist(spt_mass_samples, bins=30, alpha=0.5, label='Mamajek Table')\n",
    "leg = plt.legend(loc='best', fancybox=True)\n"
   ]
  },
  {
   "cell_type": "markdown",
   "metadata": {
    "collapsed": false
   },
   "source": [
    "# Put everything together.\n",
    "I will generate primary and secondary star mass estimates for every detection, and store them all in an HDF5 file. I will generate histograms of all of the samples along the way, so that I can check if anything looks weird."
   ]
  },
  {
   "cell_type": "code",
   "execution_count": 5,
   "metadata": {
    "collapsed": false
   },
   "outputs": [
    {
     "data": {
      "text/html": [
       "<div>\n",
       "<table border=\"1\" class=\"dataframe\">\n",
       "  <thead>\n",
       "    <tr style=\"text-align: right;\">\n",
       "      <th></th>\n",
       "      <th>Star</th>\n",
       "      <th>configuration</th>\n",
       "      <th>SpT</th>\n",
       "      <th>vsini_sec</th>\n",
       "      <th>[Fe/H]</th>\n",
       "      <th>Rank</th>\n",
       "      <th>Tmeas</th>\n",
       "      <th>Corrected_Temperature</th>\n",
       "      <th>T_lowerr</th>\n",
       "      <th>T_uperr</th>\n",
       "      <th>Mass</th>\n",
       "      <th>M1</th>\n",
       "    </tr>\n",
       "  </thead>\n",
       "  <tbody>\n",
       "    <tr>\n",
       "      <th>0</th>\n",
       "      <td>HIP 2548</td>\n",
       "      <td>(5.70(5.84B9.5V + 7.99; 25.55y  e=.80) + 9.6...</td>\n",
       "      <td>B9.5V</td>\n",
       "      <td>30</td>\n",
       "      <td>-0.5</td>\n",
       "      <td>1</td>\n",
       "      <td>5600.047668</td>\n",
       "      <td>5732.020192</td>\n",
       "      <td>111.956254</td>\n",
       "      <td>111.982127</td>\n",
       "      <td>0.999831</td>\n",
       "      <td>2.5</td>\n",
       "    </tr>\n",
       "    <tr>\n",
       "      <th>2</th>\n",
       "      <td>HIP 3478</td>\n",
       "      <td>B5V</td>\n",
       "      <td>B5V</td>\n",
       "      <td>5</td>\n",
       "      <td>-0.5</td>\n",
       "      <td>7</td>\n",
       "      <td>5799.802745</td>\n",
       "      <td>5524.152869</td>\n",
       "      <td>149.773113</td>\n",
       "      <td>149.773877</td>\n",
       "      <td>0.957460</td>\n",
       "      <td>4.6</td>\n",
       "    </tr>\n",
       "    <tr>\n",
       "      <th>3</th>\n",
       "      <td>HIP 5310</td>\n",
       "      <td>(A3V + ?; ?)</td>\n",
       "      <td>A3V</td>\n",
       "      <td>30</td>\n",
       "      <td>0.0</td>\n",
       "      <td>3</td>\n",
       "      <td>3399.871770</td>\n",
       "      <td>3342.732718</td>\n",
       "      <td>154.357141</td>\n",
       "      <td>154.313632</td>\n",
       "      <td>0.352539</td>\n",
       "      <td>2.0</td>\n",
       "    </tr>\n",
       "    <tr>\n",
       "      <th>4</th>\n",
       "      <td>HR 545</td>\n",
       "      <td>B9V</td>\n",
       "      <td>B9.5IV</td>\n",
       "      <td>5</td>\n",
       "      <td>-0.5</td>\n",
       "      <td>1</td>\n",
       "      <td>4499.706320</td>\n",
       "      <td>4312.191145</td>\n",
       "      <td>87.255325</td>\n",
       "      <td>87.252411</td>\n",
       "      <td>0.728462</td>\n",
       "      <td>2.5</td>\n",
       "    </tr>\n",
       "    <tr>\n",
       "      <th>7</th>\n",
       "      <td>HR 604</td>\n",
       "      <td>(2.33K3IIb + 5.02(5.5(B7V + B9V; 2.67d) + 6.2A...</td>\n",
       "      <td>B8V+A0V</td>\n",
       "      <td>5</td>\n",
       "      <td>0.5</td>\n",
       "      <td>1</td>\n",
       "      <td>5000.070687</td>\n",
       "      <td>4735.568122</td>\n",
       "      <td>149.777704</td>\n",
       "      <td>149.773948</td>\n",
       "      <td>0.794541</td>\n",
       "      <td>3.4</td>\n",
       "    </tr>\n",
       "  </tbody>\n",
       "</table>\n",
       "</div>"
      ],
      "text/plain": [
       "       Star                                      configuration      SpT  \\\n",
       "0  HIP 2548    (5.70(5.84B9.5V + 7.99; 25.55y  e=.80) + 9.6...    B9.5V   \n",
       "2  HIP 3478                                                B5V      B5V   \n",
       "3  HIP 5310                                       (A3V + ?; ?)      A3V   \n",
       "4    HR 545                                                B9V   B9.5IV   \n",
       "7    HR 604  (2.33K3IIb + 5.02(5.5(B7V + B9V; 2.67d) + 6.2A...  B8V+A0V   \n",
       "\n",
       "   vsini_sec  [Fe/H]  Rank        Tmeas  Corrected_Temperature    T_lowerr  \\\n",
       "0         30    -0.5     1  5600.047668            5732.020192  111.956254   \n",
       "2          5    -0.5     7  5799.802745            5524.152869  149.773113   \n",
       "3         30     0.0     3  3399.871770            3342.732718  154.357141   \n",
       "4          5    -0.5     1  4499.706320            4312.191145   87.255325   \n",
       "7          5     0.5     1  5000.070687            4735.568122  149.777704   \n",
       "\n",
       "      T_uperr      Mass   M1  \n",
       "0  111.982127  0.999831  2.5  \n",
       "2  149.773877  0.957460  4.6  \n",
       "3  154.313632  0.352539  2.0  \n",
       "4   87.252411  0.728462  2.5  \n",
       "7  149.773948  0.794541  3.4  "
      ]
     },
     "execution_count": 5,
     "metadata": {},
     "output_type": "execute_result"
    }
   ],
   "source": [
    "summary.head()[['Star', 'configuration', 'SpT', 'vsini_sec', '[Fe/H]', 'Rank', \n",
    "                'Tmeas', 'Corrected_Temperature', 'T_lowerr', 'T_uperr', 'Mass', 'M1']]"
   ]
  },
  {
   "cell_type": "code",
   "execution_count": 6,
   "metadata": {
    "collapsed": false,
    "scrolled": true
   },
   "outputs": [
    {
     "name": "stderr",
     "output_type": "stream",
     "text": [
      "INFO:root:Getting stellar data for HIP 37450\n",
      "INFO:root:Main Sequence age for HIP 37450 is 50 Myr\n",
      "INFO:root:Getting stellar data for HIP 46283\n"
     ]
    },
    {
     "name": "stdout",
     "output_type": "stream",
     "text": [
      "SELECT * FROM star WHERE name IN ('HIP 37450')\n",
      "SELECT * FROM star WHERE name IN ('HIP 46283')"
     ]
    },
    {
     "name": "stderr",
     "output_type": "stream",
     "text": [
      "INFO:root:Main Sequence age for HIP 46283 is 63 Myr\n",
      "INFO:root:Getting stellar data for HIP 96840\n"
     ]
    },
    {
     "name": "stdout",
     "output_type": "stream",
     "text": [
      "\n",
      "SELECT * FROM star WHERE name IN ('HIP 96840')"
     ]
    },
    {
     "name": "stderr",
     "output_type": "stream",
     "text": [
      "INFO:root:Main Sequence age for HIP 96840 is 50 Myr\n"
     ]
    },
    {
     "name": "stdout",
     "output_type": "stream",
     "text": [
      "\n"
     ]
    }
   ],
   "source": [
    "iso_int = Priors.IsochroneInterpolator()\n",
    "spt_int = Priors.SpectralTypeInterpolator()\n",
    "logger.setLevel(logging.INFO)\n",
    "\n",
    "N = 1e4\n",
    "HDF5_OUTPUT = 'data/OrbitPrior.h5'\n",
    "with h5py.File(HDF5_OUTPUT, 'w') as outfile:\n",
    "    for idx, row in summary.iterrows():\n",
    "        # Get primary mass samples\n",
    "        hipnum = row['Star'].split('HIP')[-1].strip()\n",
    "        primary_mass = Priors.get_primary_mass(star=row['Star'], spt=row['SpT'], size=N, mass_err=0.1)\n",
    "\n",
    "        # Get system age estimate\n",
    "        age = Priors.get_ages(starname=row['Star'], spt=row['SpT'], size=N)\n",
    "\n",
    "        # Get companion mass estimates\n",
    "        teff_samples = np.random.normal(loc=row['Corrected_Temperature'],\n",
    "                                        scale=max(row['T_lowerr'], row['T_uperr']),\n",
    "                                        size=len(primary_mass))\n",
    "        \n",
    "        companion_isomass = iso_int(teff_samples, np.log10(age)+6)\n",
    "        companion_sptmass = spt_int(teff_samples)\n",
    "\n",
    "        # Save the data in the HDF5 file\n",
    "        star_grp = outfile.create_group(row['Star'])\n",
    "        _ = star_grp.create_dataset('primary', data=primary_mass)\n",
    "        _ = star_grp.create_dataset('companion_isochrone', data=companion_isomass)\n",
    "        _ = star_grp.create_dataset('companion_spectral_type', data=companion_sptmass)\n",
    "        _ = star_grp.create_dataset('system_age', data=age)\n",
    "        \n",
    "        # Save the star data as attributes of the group.\n",
    "        for col in ['SpT', 'configuration', 'vsini_sec', '[Fe/H]', 'Rank',\n",
    "                    'Tmeas', 'Tmeas_err', 'Corrected_Temperature', 'T_lowerr', 'T_uperr']:\n",
    "            star_grp.attrs[col] = row[col]\n",
    "        \n",
    "        outfile.flush()"
   ]
  },
  {
   "cell_type": "code",
   "execution_count": 7,
   "metadata": {
    "collapsed": false
   },
   "outputs": [],
   "source": [
    "# Make a raw mass-ratio distribution\n",
    "def mode(a, bins=30):\n",
    "    vals, bins = np.histogram(a[~np.isnan(a)], bins=bins)\n",
    "    mode = bins[np.argmax(vals)]\n",
    "    return mode\n",
    "    \n",
    "spt_q = []\n",
    "iso_q = []\n",
    "HDF5_OUTPUT = 'data/OrbitPrior.h5'\n",
    "with h5py.File(HDF5_OUTPUT, 'r') as f:\n",
    "    for starname, star_grp in f.iteritems():\n",
    "        primary_mass = star_grp['primary'].value\n",
    "        companion_isomass = star_grp['companion_isochrone']\n",
    "        companion_sptmass = star_grp['companion_spectral_type']\n",
    "        \n",
    "        M1 = mode(primary_mass)\n",
    "        M2_iso = mode(companion_isomass)\n",
    "        M2_spt = mode(companion_sptmass)\n",
    "        spt_q.append(min(M1/M2_spt, M2_spt/M1))\n",
    "        iso_q.append(min(M1/M2_iso, M2_iso/M1))"
   ]
  },
  {
   "cell_type": "code",
   "execution_count": 8,
   "metadata": {
    "collapsed": false
   },
   "outputs": [
    {
     "data": {
      "text/plain": [
       "<matplotlib.text.Text at 0x7fd77d542f10>"
      ]
     },
     "execution_count": 8,
     "metadata": {},
     "output_type": "execute_result"
    },
    {
     "data": {
      "image/png": "[encoded data removed]",
      "text/plain": [
       "<matplotlib.figure.Figure at 0x7fd782f07310>"
      ]
     },
     "metadata": {},
     "output_type": "display_data"
    }
   ],
   "source": [
    "bins = np.arange(0, 1.05, 0.1)\n",
    "plt.hist(spt_q, bins=bins, alpha=0.5, label='Spectral Type', normed=True)\n",
    "plt.hist(iso_q, bins=bins, alpha=0.5, label='Isochrone', normed=True)\n",
    "leg = plt.legend(loc='best', fancybox=True)\n",
    "plt.xlabel('q')\n",
    "plt.ylabel('P(q)')"
   ]
  },
  {
   "cell_type": "code",
   "execution_count": null,
   "metadata": {
    "collapsed": true
   },
   "outputs": [],
   "source": []
  }
 ],
 "metadata": {
  "kernelspec": {
   "display_name": "Python 2",
   "language": "python",
   "name": "python2"
  },
  "language_info": {
   "codemirror_mode": {
    "name": "ipython",
    "version": 2
   },
   "file_extension": ".py",
   "mimetype": "text/x-python",
   "name": "python",
   "nbconvert_exporter": "python",
   "pygments_lexer": "ipython2",
   "version": "2.7.11"
  }
 },
 "nbformat": 4,
 "nbformat_minor": 0
}
